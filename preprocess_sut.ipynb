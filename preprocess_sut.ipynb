{
 "cells": [
  {
   "cell_type": "markdown",
   "metadata": {},
   "source": [
    "# Grads Project - Networks"
   ]
  },
  {
   "cell_type": "markdown",
   "metadata": {},
   "source": [
    "### Import packages "
   ]
  },
  {
   "cell_type": "code",
   "execution_count": null,
   "metadata": {},
   "outputs": [],
   "source": [
    "import networkx as nx\n",
    "import pandas as pd\n",
    "from pandas.io.common import is_url\n",
    "import matplotlib.pyplot as plt"
   ]
  },
  {
   "cell_type": "markdown",
   "metadata": {
    "collapsed": true
   },
   "source": [
    "### Read in the ONS Input-output intermediate consumption table for 2018:\n",
    "\n",
    "https://www.ons.gov.uk/file?uri=/economy/nationalaccounts/supplyandusetables/datasets/inputoutputsupplyandusetables/current/bb20detailedsutablepublication.xlsx"
   ]
  },
  {
   "cell_type": "code",
   "execution_count": null,
   "metadata": {},
   "outputs": [],
   "source": [
    "keep_rows = range(3, 110)\n",
    "iosut_data = pd.read_excel(r\"../data/bb20detailedsutablepublication.xlsx\",\n",
    "                           sheet_name = \"Table 2 - Int Con 2018\",\n",
    "                           skiprows = lambda x: x not in keep_rows,\n",
    "                           na_values = '- ',\n",
    "                           dtype = str)"
   ]
  },
  {
   "cell_type": "code",
   "execution_count": null,
   "metadata": {},
   "outputs": [],
   "source": [
    "#remove uneeded columns and rows\n",
    "iosut_data = iosut_data.drop('Unnamed: 1', axis=1)\n",
    "iosut_data = iosut_data.drop('Unnamed: 107', axis=1)\n",
    "iosut_data = iosut_data.drop(labels=0, axis=0)\n",
    "\n",
    "# rename column\n",
    "iosut_data = iosut_data.rename(columns = {'Unnamed: 0':'product'})\n",
    "\n",
    "# remove spaces in column names and rows\n",
    "iosut_data.columns = iosut_data.columns.str.replace(' ', '')\n",
    "iosut_data['product'] = iosut_data['product'].str.replace(' ', '')"
   ]
  },
  {
   "cell_type": "code",
   "execution_count": null,
   "metadata": {},
   "outputs": [],
   "source": [
    "print(iosut_data.shape)\n",
    "iosut_data.head(5)"
   ]
  },
  {
   "cell_type": "markdown",
   "metadata": {},
   "source": [
    "#### Basic QA check to ensure that industry names and column names match up"
   ]
  },
  {
   "cell_type": "code",
   "execution_count": null,
   "metadata": {},
   "outputs": [],
   "source": [
    "# remove \"CPA_\"\n",
    "iosut_data['product_stripped'] = iosut_data['product'].str[4:]\n",
    "\n",
    "columns = iosut_data.columns.to_list()[1:-1] # remove 'product' and 'product_stripped'\n",
    "values = iosut_data['product_stripped'].tolist()\n",
    "\n",
    "column_set = set(columns)\n",
    "values_set = set(values)\n",
    "\n",
    "# Check which columns/values do not match\n",
    "print(\"Columns not in values\", column_set.difference(values_set))\n",
    "print(\"Values not in columns\", values_set.difference(column_set))"
   ]
  },
  {
   "cell_type": "code",
   "execution_count": null,
   "metadata": {},
   "outputs": [],
   "source": [
    "# change col names that don't match\n",
    "iosut_data.rename(columns={'C1101T1106&C12':'C11.01-6&C12'}, inplace=True)\n",
    "iosut_data.rename(columns={'C241T243':'C241_3'}, inplace=True)\n",
    "iosut_data.rename(columns={'H493T495':'H493_5'}, inplace=True)"
   ]
  },
  {
   "cell_type": "code",
   "execution_count": null,
   "metadata": {},
   "outputs": [],
   "source": [
    "# Create a lookup for SIC codes to industry names\n",
    "sic_lookup = pd.read_csv(r\"../data/sic2007summaryofstructurtcm6.csv\", \n",
    "                                usecols=[0,1],\n",
    "                                encoding = \"unicode_escape\"\n",
    "                               )\n",
    "\n",
    "sic_lookup.columns = ['section', 'industry']\n",
    "sic_lookup = sic_lookup.dropna().reset_index(drop = True)\n",
    "sic_lookup"
   ]
  },
  {
   "cell_type": "code",
   "execution_count": null,
   "metadata": {},
   "outputs": [],
   "source": [
    "# convert wide table to long table\n",
    "iosut_long = pd.melt(iosut_data, \n",
    "                     id_vars='product_stripped', \n",
    "                     value_vars=iosut_data.columns.to_list()[1:-1]).dropna()\n",
    "\n",
    "# pull sic code from variables\n",
    "iosut_long['product_stripped'] = iosut_long['product_stripped'].str[0]\n",
    "iosut_long['industry'] = iosut_long['variable'].str[0]"
   ]
  },
  {
   "cell_type": "code",
   "execution_count": null,
   "metadata": {},
   "outputs": [],
   "source": [
    "# clean value string and convert to numeric\n",
    "iosut_long['value'] = iosut_long['value'].str.replace(' ', '').astype(int)\n",
    "\n",
    "#remove \"loops\" - these are within section transactions\n",
    "iosut_long = iosut_long[iosut_long['product_stripped'] != iosut_long['industry']]\n",
    "#remove null transactions\n",
    "iosut_long = iosut_long[iosut_long['value'] != 0]"
   ]
  },
  {
   "cell_type": "code",
   "execution_count": null,
   "metadata": {},
   "outputs": [],
   "source": [
    "# groupby product and industry and sum\n",
    "iosut_section_edges = iosut_long.groupby(['product_stripped', 'industry']).sum().reset_index()"
   ]
  },
  {
   "cell_type": "code",
   "execution_count": null,
   "metadata": {},
   "outputs": [],
   "source": [
    "iosut_section_edges.head()"
   ]
  },
  {
   "cell_type": "markdown",
   "metadata": {},
   "source": [
    "## Answering the analytical questions using the graph object"
   ]
  },
  {
   "cell_type": "code",
   "execution_count": null,
   "metadata": {},
   "outputs": [],
   "source": [
    "G = nx.from_pandas_edgelist(\n",
    "    iosut_section_edges, target='industry', source='product_stripped', \n",
    "    edge_attr = 'value',       # this adds weighting to the edges based on transaction values\n",
    "    create_using = nx.DiGraph  # this gives the network directionality\n",
    ")"
   ]
  },
  {
   "cell_type": "markdown",
   "metadata": {},
   "source": [
    "#### Calculate metrics such as in- and out-degree"
   ]
  },
  {
   "cell_type": "code",
   "execution_count": null,
   "metadata": {},
   "outputs": [],
   "source": [
    "import pandas as pd\n",
    "in_degrees = [G.in_degree(node) for node in G.nodes]\n",
    "out_degrees = [G.out_degree(node) for node in G.nodes]\n",
    "in_values = [G.in_degree(node, weight = 'value') for node in G.nodes]\n",
    "out_values = [G.out_degree(node, weight= 'value') for node in G.nodes]\n",
    "\n",
    "degrees_df = pd.DataFrame(\n",
    "    data = {\n",
    "        'node': G.nodes,\n",
    "        'in_degree': in_degrees,\n",
    "        'out_degree': out_degrees,\n",
    "        'in_value': in_values,\n",
    "        'out_value': out_values\n",
    "    }\n",
    ")\n",
    "\n",
    "degrees_df"
   ]
  },
  {
   "cell_type": "markdown",
   "metadata": {},
   "source": [
    "#### Which sectors have the highest number of other sectors they are supplying?"
   ]
  },
  {
   "cell_type": "code",
   "execution_count": null,
   "metadata": {},
   "outputs": [],
   "source": [
    "highest_number_supplying = max(degrees_df['out_degree'])\n",
    "print(f\"Highest number of sectors supplied is {highest_number_supplying}.\")\n",
    "\n",
    "degrees_df[degrees_df['out_degree']==highest_number_supplying]"
   ]
  },
  {
   "cell_type": "markdown",
   "metadata": {},
   "source": [
    "#### Which sector supplies the highest value of goods to other sectors?\n"
   ]
  },
  {
   "cell_type": "code",
   "execution_count": null,
   "metadata": {},
   "outputs": [],
   "source": [
    "max_out = max(degrees_df.out_value)\n",
    "sector_out = degrees_df[degrees_df['out_value']==max_out].iloc[0,0]\n",
    "print(f\"Highest value of goods supplied by a sector is {max_out}, supplied by sector {sector_out}.\")"
   ]
  },
  {
   "cell_type": "markdown",
   "metadata": {},
   "source": [
    "#### Which sector buys the highest value of goods from other sectors?"
   ]
  },
  {
   "cell_type": "code",
   "execution_count": null,
   "metadata": {},
   "outputs": [],
   "source": [
    "max_in = max(degrees_df.in_value)\n",
    "sector_in = degrees_df[degrees_df['in_value']==max_in].iloc[0,0]\n",
    "print(f'Highest value of goods bought by a sector is {max_in}, bought by sector {sector_in}.')"
   ]
  },
  {
   "cell_type": "markdown",
   "metadata": {},
   "source": [
    "#### Between which 2 sectors are the highest value of transactions? "
   ]
  },
  {
   "cell_type": "code",
   "execution_count": null,
   "metadata": {},
   "outputs": [],
   "source": [
    "edge_values = {G.edges[edge]['value']: edge for edge in G.edges if edge[0]!=edge[1]}\n",
    "highest_value = max(edge_values.keys())\n",
    "\n",
    "print(f'Highest value of transactions is {highest_value} between sectors {edge_values[highest_value]}.')"
   ]
  },
  {
   "cell_type": "markdown",
   "metadata": {},
   "source": [
    "#### Remove the sector-to-sector relationships of less than £1,000m and produce a visualisation of the network"
   ]
  },
  {
   "cell_type": "code",
   "execution_count": null,
   "metadata": {},
   "outputs": [],
   "source": [
    "iosut_section_edges_subb = iosut_section_edges[iosut_section_edges.value > 1000]\n",
    "G_sub = nx.from_pandas_edgelist(\n",
    "    iosut_section_edges_subb, target='product_stripped', source='industry', \n",
    "    edge_attr = 'value', \n",
    "    create_using = nx.DiGraph\n",
    ")\n",
    "\n",
    "plt.figure(figsize=(16, 16))\n",
    "pos = nx.spring_layout(G_sub)\n",
    "nx.draw_networkx_nodes(G_sub, pos, node_size=500, node_color = 'royalblue')\n",
    "nx.draw_networkx_edges(G_sub, pos, edgelist=G_sub.edges(), edge_color='black')\n",
    "nx.draw_networkx_labels(G_sub, pos, font_color = 'white')\n",
    "plt.show()"
   ]
  },
  {
   "cell_type": "code",
   "execution_count": null,
   "metadata": {},
   "outputs": [],
   "source": [
    "# with weights\n",
    "edge_weights = [G.edges[edge]['value'] for edge in G.edges]\n",
    "edge_widths = [weight / max(edge_weights) * 10 for weight in edge_weights]\n",
    "\n",
    "plt.figure(figsize=(16, 16))\n",
    "pos = nx.spring_layout(G_sub)\n",
    "nx.draw_networkx_nodes(G_sub, pos, node_size=500, node_color = 'royalblue')\n",
    "nx.draw_networkx_edges(G_sub, pos, edgelist=G_sub.edges(), edge_color='black', width = edge_widths)\n",
    "nx.draw_networkx_labels(G_sub, pos, font_color = 'white')\n",
    "plt.show()"
   ]
  },
  {
   "cell_type": "code",
   "execution_count": null,
   "metadata": {},
   "outputs": [],
   "source": []
  }
 ],
 "metadata": {
  "kernelspec": {
   "display_name": "Python 3",
   "language": "python",
   "name": "python3"
  },
  "language_info": {
   "codemirror_mode": {
    "name": "ipython",
    "version": 3
   },
   "file_extension": ".py",
   "mimetype": "text/x-python",
   "name": "python",
   "nbconvert_exporter": "python",
   "pygments_lexer": "ipython3",
   "version": "3.8.3"
  }
 },
 "nbformat": 4,
 "nbformat_minor": 4
}
