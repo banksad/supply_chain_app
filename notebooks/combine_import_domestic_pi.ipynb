{
 "cells": [
  {
   "cell_type": "code",
   "execution_count": 1,
   "metadata": {},
   "outputs": [
    {
     "data": {
      "text/plain": [
       "'/Users/andrewbanks/Projects/supply_chain_app/notebooks'"
      ]
     },
     "execution_count": 1,
     "metadata": {},
     "output_type": "execute_result"
    }
   ],
   "source": [
    "import pandas as pd\n",
    "import os\n",
    "\n",
    "os.getcwd()"
   ]
  },
  {
   "cell_type": "code",
   "execution_count": 2,
   "metadata": {},
   "outputs": [
    {
     "data": {
      "text/html": [
       "<div>\n",
       "<style scoped>\n",
       "    .dataframe tbody tr th:only-of-type {\n",
       "        vertical-align: middle;\n",
       "    }\n",
       "\n",
       "    .dataframe tbody tr th {\n",
       "        vertical-align: top;\n",
       "    }\n",
       "\n",
       "    .dataframe thead th {\n",
       "        text-align: right;\n",
       "    }\n",
       "</style>\n",
       "<table border=\"1\" class=\"dataframe\">\n",
       "  <thead>\n",
       "    <tr style=\"text-align: right;\">\n",
       "      <th></th>\n",
       "      <th>Unnamed: 0</th>\n",
       "      <th>input requirements</th>\n",
       "      <th>industry</th>\n",
       "      <th>value</th>\n",
       "      <th>proportion</th>\n",
       "      <th>component</th>\n",
       "    </tr>\n",
       "  </thead>\n",
       "  <tbody>\n",
       "    <tr>\n",
       "      <th>0</th>\n",
       "      <td>0</td>\n",
       "      <td>A01 Products of agriculture, hunting and relat...</td>\n",
       "      <td>A01 Crop And Animal Production, Hunting And Re...</td>\n",
       "      <td>484.0</td>\n",
       "      <td>0.706569</td>\n",
       "      <td>Imported inputs</td>\n",
       "    </tr>\n",
       "    <tr>\n",
       "      <th>1</th>\n",
       "      <td>1</td>\n",
       "      <td>A02 Products of forestry, logging and related ...</td>\n",
       "      <td>A01 Crop And Animal Production, Hunting And Re...</td>\n",
       "      <td>1.0</td>\n",
       "      <td>0.001460</td>\n",
       "      <td>Imported inputs</td>\n",
       "    </tr>\n",
       "    <tr>\n",
       "      <th>2</th>\n",
       "      <td>2</td>\n",
       "      <td>A03 Fish and other fishing products; aquacultu...</td>\n",
       "      <td>A01 Crop And Animal Production, Hunting And Re...</td>\n",
       "      <td>0.0</td>\n",
       "      <td>0.000000</td>\n",
       "      <td>Imported inputs</td>\n",
       "    </tr>\n",
       "    <tr>\n",
       "      <th>3</th>\n",
       "      <td>3</td>\n",
       "      <td>B05 Coal and lignite</td>\n",
       "      <td>A01 Crop And Animal Production, Hunting And Re...</td>\n",
       "      <td>0.0</td>\n",
       "      <td>0.000000</td>\n",
       "      <td>Imported inputs</td>\n",
       "    </tr>\n",
       "    <tr>\n",
       "      <th>4</th>\n",
       "      <td>4</td>\n",
       "      <td>B06 &amp; B07 Extraction Of Crude Petroleum And Na...</td>\n",
       "      <td>A01 Crop And Animal Production, Hunting And Re...</td>\n",
       "      <td>0.0</td>\n",
       "      <td>0.000000</td>\n",
       "      <td>Imported inputs</td>\n",
       "    </tr>\n",
       "  </tbody>\n",
       "</table>\n",
       "</div>"
      ],
      "text/plain": [
       "   Unnamed: 0                                 input requirements  \\\n",
       "0           0  A01 Products of agriculture, hunting and relat...   \n",
       "1           1  A02 Products of forestry, logging and related ...   \n",
       "2           2  A03 Fish and other fishing products; aquacultu...   \n",
       "3           3                               B05 Coal and lignite   \n",
       "4           4  B06 & B07 Extraction Of Crude Petroleum And Na...   \n",
       "\n",
       "                                            industry  value  proportion  \\\n",
       "0  A01 Crop And Animal Production, Hunting And Re...  484.0    0.706569   \n",
       "1  A01 Crop And Animal Production, Hunting And Re...    1.0    0.001460   \n",
       "2  A01 Crop And Animal Production, Hunting And Re...    0.0    0.000000   \n",
       "3  A01 Crop And Animal Production, Hunting And Re...    0.0    0.000000   \n",
       "4  A01 Crop And Animal Production, Hunting And Re...    0.0    0.000000   \n",
       "\n",
       "         component  \n",
       "0  Imported inputs  \n",
       "1  Imported inputs  \n",
       "2  Imported inputs  \n",
       "3  Imported inputs  \n",
       "4  Imported inputs  "
      ]
     },
     "execution_count": 2,
     "metadata": {},
     "output_type": "execute_result"
    }
   ],
   "source": [
    "data = pd.read_csv('../data/imports_pi.csv')\n",
    "data = data.rename(columns={'import requirements':'input product'})\n",
    "data['component'] = 'Imported inputs'\n",
    "data.head()"
   ]
  },
  {
   "cell_type": "code",
   "execution_count": 3,
   "metadata": {},
   "outputs": [
    {
     "data": {
      "text/html": [
       "<div>\n",
       "<style scoped>\n",
       "    .dataframe tbody tr th:only-of-type {\n",
       "        vertical-align: middle;\n",
       "    }\n",
       "\n",
       "    .dataframe tbody tr th {\n",
       "        vertical-align: top;\n",
       "    }\n",
       "\n",
       "    .dataframe thead th {\n",
       "        text-align: right;\n",
       "    }\n",
       "</style>\n",
       "<table border=\"1\" class=\"dataframe\">\n",
       "  <thead>\n",
       "    <tr style=\"text-align: right;\">\n",
       "      <th></th>\n",
       "      <th>Unnamed: 0</th>\n",
       "      <th>input requirements</th>\n",
       "      <th>industry</th>\n",
       "      <th>value</th>\n",
       "      <th>proportion</th>\n",
       "      <th>component</th>\n",
       "    </tr>\n",
       "  </thead>\n",
       "  <tbody>\n",
       "    <tr>\n",
       "      <th>0</th>\n",
       "      <td>0</td>\n",
       "      <td>A01 Products of agriculture, hunting and relat...</td>\n",
       "      <td>A01 Crop And Animal Production, Hunting And Re...</td>\n",
       "      <td>3493.0</td>\n",
       "      <td>0.211211</td>\n",
       "      <td>Domestically produced inputs</td>\n",
       "    </tr>\n",
       "    <tr>\n",
       "      <th>1</th>\n",
       "      <td>1</td>\n",
       "      <td>A02 Products of forestry, logging and related ...</td>\n",
       "      <td>A01 Crop And Animal Production, Hunting And Re...</td>\n",
       "      <td>125.0</td>\n",
       "      <td>0.007558</td>\n",
       "      <td>Domestically produced inputs</td>\n",
       "    </tr>\n",
       "    <tr>\n",
       "      <th>2</th>\n",
       "      <td>2</td>\n",
       "      <td>A03 Fish and other fishing products; aquacultu...</td>\n",
       "      <td>A01 Crop And Animal Production, Hunting And Re...</td>\n",
       "      <td>0.0</td>\n",
       "      <td>0.000000</td>\n",
       "      <td>Domestically produced inputs</td>\n",
       "    </tr>\n",
       "    <tr>\n",
       "      <th>3</th>\n",
       "      <td>3</td>\n",
       "      <td>B05 Coal and lignite</td>\n",
       "      <td>A01 Crop And Animal Production, Hunting And Re...</td>\n",
       "      <td>0.0</td>\n",
       "      <td>0.000000</td>\n",
       "      <td>Domestically produced inputs</td>\n",
       "    </tr>\n",
       "    <tr>\n",
       "      <th>4</th>\n",
       "      <td>4</td>\n",
       "      <td>B06 &amp; B07 Extraction Of Crude Petroleum And Na...</td>\n",
       "      <td>A01 Crop And Animal Production, Hunting And Re...</td>\n",
       "      <td>0.0</td>\n",
       "      <td>0.000000</td>\n",
       "      <td>Domestically produced inputs</td>\n",
       "    </tr>\n",
       "  </tbody>\n",
       "</table>\n",
       "</div>"
      ],
      "text/plain": [
       "   Unnamed: 0                                 input requirements  \\\n",
       "0           0  A01 Products of agriculture, hunting and relat...   \n",
       "1           1  A02 Products of forestry, logging and related ...   \n",
       "2           2  A03 Fish and other fishing products; aquacultu...   \n",
       "3           3                               B05 Coal and lignite   \n",
       "4           4  B06 & B07 Extraction Of Crude Petroleum And Na...   \n",
       "\n",
       "                                            industry   value  proportion  \\\n",
       "0  A01 Crop And Animal Production, Hunting And Re...  3493.0    0.211211   \n",
       "1  A01 Crop And Animal Production, Hunting And Re...   125.0    0.007558   \n",
       "2  A01 Crop And Animal Production, Hunting And Re...     0.0    0.000000   \n",
       "3  A01 Crop And Animal Production, Hunting And Re...     0.0    0.000000   \n",
       "4  A01 Crop And Animal Production, Hunting And Re...     0.0    0.000000   \n",
       "\n",
       "                      component  \n",
       "0  Domestically produced inputs  \n",
       "1  Domestically produced inputs  \n",
       "2  Domestically produced inputs  \n",
       "3  Domestically produced inputs  \n",
       "4  Domestically produced inputs  "
      ]
     },
     "execution_count": 3,
     "metadata": {},
     "output_type": "execute_result"
    }
   ],
   "source": [
    "data2 = pd.read_csv('../data/industry_use_cleaned.csv')\n",
    "data2 = data2.rename(columns={'domestic input requirements':'input product'})\n",
    "data2['component'] = 'Domestically produced inputs'\n",
    "data2.head()"
   ]
  },
  {
   "cell_type": "code",
   "execution_count": 5,
   "metadata": {},
   "outputs": [],
   "source": [
    "data3 = pd.concat([data,data2])\n",
    "data3['proportion_total']= data3['value'] / data3.groupby('industry')['value'].transform('sum')\n",
    "data3.tail()\n",
    "data3.to_csv('../data/combined_pi.csv')"
   ]
  }
 ],
 "metadata": {
  "kernelspec": {
   "display_name": "Python 3.9.12 ('base')",
   "language": "python",
   "name": "python3"
  },
  "language_info": {
   "codemirror_mode": {
    "name": "ipython",
    "version": 3
   },
   "file_extension": ".py",
   "mimetype": "text/x-python",
   "name": "python",
   "nbconvert_exporter": "python",
   "pygments_lexer": "ipython3",
   "version": "3.9.12"
  },
  "orig_nbformat": 4,
  "vscode": {
   "interpreter": {
    "hash": "e64d64c086741ef4a01b1973e253f24b05e5f8201e043641bb65f7528e84d7ba"
   }
  }
 },
 "nbformat": 4,
 "nbformat_minor": 2
}
