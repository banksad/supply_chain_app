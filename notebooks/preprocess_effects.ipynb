{
 "cells": [
  {
   "cell_type": "code",
   "execution_count": 1,
   "metadata": {},
   "outputs": [],
   "source": [
    "import numpy as np\n",
    "import pandas as pd\n",
    "import os"
   ]
  },
  {
   "cell_type": "code",
   "execution_count": 2,
   "metadata": {},
   "outputs": [],
   "source": [
    "os.chdir('..')"
   ]
  },
  {
   "cell_type": "code",
   "execution_count": 4,
   "metadata": {},
   "outputs": [
    {
     "data": {
      "text/html": [
       "<div>\n",
       "<style scoped>\n",
       "    .dataframe tbody tr th:only-of-type {\n",
       "        vertical-align: middle;\n",
       "    }\n",
       "\n",
       "    .dataframe tbody tr th {\n",
       "        vertical-align: top;\n",
       "    }\n",
       "\n",
       "    .dataframe thead th {\n",
       "        text-align: right;\n",
       "    }\n",
       "</style>\n",
       "<table border=\"1\" class=\"dataframe\">\n",
       "  <thead>\n",
       "    <tr style=\"text-align: right;\">\n",
       "      <th></th>\n",
       "      <th>Product</th>\n",
       "      <th>Intermediate consumption at basic prices</th>\n",
       "      <th>Use of imported products, cif</th>\n",
       "      <th>Taxes less subsidies on products</th>\n",
       "      <th>Intermediate consumption at purchaser's prices</th>\n",
       "      <th>Compensation of employees</th>\n",
       "      <th>Gross operating surplus and mixed income</th>\n",
       "      <th>Taxes less subsidies on production</th>\n",
       "      <th>Gross value added</th>\n",
       "      <th>Output</th>\n",
       "    </tr>\n",
       "  </thead>\n",
       "  <tbody>\n",
       "    <tr>\n",
       "      <th>100</th>\n",
       "      <td>Sports services and amusement and recreation s...</td>\n",
       "      <td>0.611234</td>\n",
       "      <td>0.075756</td>\n",
       "      <td>0.047420</td>\n",
       "      <td>0.734411</td>\n",
       "      <td>0.574061</td>\n",
       "      <td>0.277951</td>\n",
       "      <td>0.024812</td>\n",
       "      <td>0.876824</td>\n",
       "      <td>1.611234</td>\n",
       "    </tr>\n",
       "    <tr>\n",
       "      <th>101</th>\n",
       "      <td>Services furnished by membership organisations...</td>\n",
       "      <td>0.646991</td>\n",
       "      <td>0.072096</td>\n",
       "      <td>0.015336</td>\n",
       "      <td>0.734423</td>\n",
       "      <td>0.663607</td>\n",
       "      <td>0.237182</td>\n",
       "      <td>0.011779</td>\n",
       "      <td>0.912568</td>\n",
       "      <td>1.646991</td>\n",
       "    </tr>\n",
       "    <tr>\n",
       "      <th>102</th>\n",
       "      <td>Repair services of computers and personal and ...</td>\n",
       "      <td>0.446764</td>\n",
       "      <td>0.109910</td>\n",
       "      <td>0.006684</td>\n",
       "      <td>0.563359</td>\n",
       "      <td>0.496298</td>\n",
       "      <td>0.379063</td>\n",
       "      <td>0.008045</td>\n",
       "      <td>0.883406</td>\n",
       "      <td>1.446764</td>\n",
       "    </tr>\n",
       "    <tr>\n",
       "      <th>103</th>\n",
       "      <td>Other personal services</td>\n",
       "      <td>0.251532</td>\n",
       "      <td>0.059019</td>\n",
       "      <td>0.024091</td>\n",
       "      <td>0.334641</td>\n",
       "      <td>0.302707</td>\n",
       "      <td>0.595216</td>\n",
       "      <td>0.018967</td>\n",
       "      <td>0.916891</td>\n",
       "      <td>1.251532</td>\n",
       "    </tr>\n",
       "    <tr>\n",
       "      <th>104</th>\n",
       "      <td>Services of households as employers of domesti...</td>\n",
       "      <td>0.000000</td>\n",
       "      <td>0.000000</td>\n",
       "      <td>0.000000</td>\n",
       "      <td>0.000000</td>\n",
       "      <td>1.000000</td>\n",
       "      <td>0.000000</td>\n",
       "      <td>0.000000</td>\n",
       "      <td>1.000000</td>\n",
       "      <td>1.000000</td>\n",
       "    </tr>\n",
       "  </tbody>\n",
       "</table>\n",
       "</div>"
      ],
      "text/plain": [
       "                                               Product  \\\n",
       "100  Sports services and amusement and recreation s...   \n",
       "101  Services furnished by membership organisations...   \n",
       "102  Repair services of computers and personal and ...   \n",
       "103               Other personal services                \n",
       "104  Services of households as employers of domesti...   \n",
       "\n",
       "     Intermediate consumption at basic prices  Use of imported products, cif  \\\n",
       "100                                  0.611234                       0.075756   \n",
       "101                                  0.646991                       0.072096   \n",
       "102                                  0.446764                       0.109910   \n",
       "103                                  0.251532                       0.059019   \n",
       "104                                  0.000000                       0.000000   \n",
       "\n",
       "     Taxes less subsidies on products  \\\n",
       "100                          0.047420   \n",
       "101                          0.015336   \n",
       "102                          0.006684   \n",
       "103                          0.024091   \n",
       "104                          0.000000   \n",
       "\n",
       "     Intermediate consumption at purchaser's prices  \\\n",
       "100                                        0.734411   \n",
       "101                                        0.734423   \n",
       "102                                        0.563359   \n",
       "103                                        0.334641   \n",
       "104                                        0.000000   \n",
       "\n",
       "     Compensation of employees  Gross operating surplus and mixed income  \\\n",
       "100                   0.574061                                  0.277951   \n",
       "101                   0.663607                                  0.237182   \n",
       "102                   0.496298                                  0.379063   \n",
       "103                   0.302707                                  0.595216   \n",
       "104                   1.000000                                  0.000000   \n",
       "\n",
       "     Taxes less subsidies on production  Gross value added    Output  \n",
       "100                            0.024812           0.876824  1.611234  \n",
       "101                            0.011779           0.912568  1.646991  \n",
       "102                            0.008045           0.883406  1.446764  \n",
       "103                            0.018967           0.916891  1.251532  \n",
       "104                            0.000000           1.000000  1.000000  "
      ]
     },
     "execution_count": 4,
     "metadata": {},
     "output_type": "execute_result"
    }
   ],
   "source": [
    "data = pd.read_excel('data/nasu1719pr.xlsx',sheet_name='Effects',header=5)\n",
    "data = data.iloc[:,1:]\n",
    "data.tail()"
   ]
  },
  {
   "cell_type": "markdown",
   "metadata": {},
   "source": [
    "Examine imports use table"
   ]
  },
  {
   "cell_type": "code",
   "execution_count": 5,
   "metadata": {},
   "outputs": [
    {
     "data": {
      "text/plain": [
       "['Intermediate consumption at basic prices',\n",
       " 'Use of imported products, cif',\n",
       " 'Taxes less subsidies on products',\n",
       " \"Intermediate consumption at purchaser's prices\",\n",
       " 'Compensation of employees',\n",
       " 'Gross operating surplus and mixed income',\n",
       " 'Taxes less subsidies on production',\n",
       " 'Gross value added',\n",
       " 'Output']"
      ]
     },
     "execution_count": 5,
     "metadata": {},
     "output_type": "execute_result"
    }
   ],
   "source": [
    "data.columns.to_list()[1:]"
   ]
  },
  {
   "cell_type": "code",
   "execution_count": 6,
   "metadata": {},
   "outputs": [
    {
     "data": {
      "text/plain": [
       "(945, 3)"
      ]
     },
     "execution_count": 6,
     "metadata": {},
     "output_type": "execute_result"
    }
   ],
   "source": [
    "# convert wide table to long table\n",
    "effects = pd.melt(data, \n",
    "                     id_vars='Product', \n",
    "                     value_vars=data.columns.to_list()[1:]).dropna()\n",
    "\n",
    "effects.shape"
   ]
  },
  {
   "cell_type": "code",
   "execution_count": 7,
   "metadata": {},
   "outputs": [
    {
     "data": {
      "text/html": [
       "<div>\n",
       "<style scoped>\n",
       "    .dataframe tbody tr th:only-of-type {\n",
       "        vertical-align: middle;\n",
       "    }\n",
       "\n",
       "    .dataframe tbody tr th {\n",
       "        vertical-align: top;\n",
       "    }\n",
       "\n",
       "    .dataframe thead th {\n",
       "        text-align: right;\n",
       "    }\n",
       "</style>\n",
       "<table border=\"1\" class=\"dataframe\">\n",
       "  <thead>\n",
       "    <tr style=\"text-align: right;\">\n",
       "      <th></th>\n",
       "      <th>Product</th>\n",
       "      <th>variable</th>\n",
       "      <th>value</th>\n",
       "    </tr>\n",
       "  </thead>\n",
       "  <tbody>\n",
       "    <tr>\n",
       "      <th>0</th>\n",
       "      <td>Products of agriculture, hunting and related s...</td>\n",
       "      <td>Intermediate consumption at basic prices</td>\n",
       "      <td>1.005450</td>\n",
       "    </tr>\n",
       "    <tr>\n",
       "      <th>1</th>\n",
       "      <td>Products of forestry, logging and related serv...</td>\n",
       "      <td>Intermediate consumption at basic prices</td>\n",
       "      <td>1.022336</td>\n",
       "    </tr>\n",
       "    <tr>\n",
       "      <th>2</th>\n",
       "      <td>Fish and other fishing products; aquaculture p...</td>\n",
       "      <td>Intermediate consumption at basic prices</td>\n",
       "      <td>1.071247</td>\n",
       "    </tr>\n",
       "    <tr>\n",
       "      <th>3</th>\n",
       "      <td>Coal and lignite</td>\n",
       "      <td>Intermediate consumption at basic prices</td>\n",
       "      <td>0.861165</td>\n",
       "    </tr>\n",
       "    <tr>\n",
       "      <th>4</th>\n",
       "      <td>Extraction Of Crude Petroleum And Natural Gas ...</td>\n",
       "      <td>Intermediate consumption at basic prices</td>\n",
       "      <td>0.599118</td>\n",
       "    </tr>\n",
       "  </tbody>\n",
       "</table>\n",
       "</div>"
      ],
      "text/plain": [
       "                                             Product  \\\n",
       "0  Products of agriculture, hunting and related s...   \n",
       "1  Products of forestry, logging and related serv...   \n",
       "2  Fish and other fishing products; aquaculture p...   \n",
       "3                      Coal and lignite                \n",
       "4  Extraction Of Crude Petroleum And Natural Gas ...   \n",
       "\n",
       "                                   variable     value  \n",
       "0  Intermediate consumption at basic prices  1.005450  \n",
       "1  Intermediate consumption at basic prices  1.022336  \n",
       "2  Intermediate consumption at basic prices  1.071247  \n",
       "3  Intermediate consumption at basic prices  0.861165  \n",
       "4  Intermediate consumption at basic prices  0.599118  "
      ]
     },
     "execution_count": 7,
     "metadata": {},
     "output_type": "execute_result"
    }
   ],
   "source": [
    "effects.head()"
   ]
  },
  {
   "cell_type": "code",
   "execution_count": 8,
   "metadata": {},
   "outputs": [],
   "source": [
    "# Strip whitespace from start and finish\n",
    "\n",
    "def space_stripper(x):\n",
    "    return x.strip()\n",
    "\n",
    "effects[['Product','variable']] = effects[['Product','variable']].applymap(lambda x: space_stripper(x))"
   ]
  },
  {
   "cell_type": "code",
   "execution_count": 9,
   "metadata": {},
   "outputs": [
    {
     "data": {
      "text/html": [
       "<div>\n",
       "<style scoped>\n",
       "    .dataframe tbody tr th:only-of-type {\n",
       "        vertical-align: middle;\n",
       "    }\n",
       "\n",
       "    .dataframe tbody tr th {\n",
       "        vertical-align: top;\n",
       "    }\n",
       "\n",
       "    .dataframe thead th {\n",
       "        text-align: right;\n",
       "    }\n",
       "</style>\n",
       "<table border=\"1\" class=\"dataframe\">\n",
       "  <thead>\n",
       "    <tr style=\"text-align: right;\">\n",
       "      <th></th>\n",
       "      <th>Product</th>\n",
       "      <th>variable</th>\n",
       "      <th>value</th>\n",
       "    </tr>\n",
       "  </thead>\n",
       "  <tbody>\n",
       "    <tr>\n",
       "      <th>0</th>\n",
       "      <td>Products of agriculture, hunting and related s...</td>\n",
       "      <td>Intermediate consumption at basic prices</td>\n",
       "      <td>1.005450</td>\n",
       "    </tr>\n",
       "    <tr>\n",
       "      <th>1</th>\n",
       "      <td>Products of forestry, logging and related serv...</td>\n",
       "      <td>Intermediate consumption at basic prices</td>\n",
       "      <td>1.022336</td>\n",
       "    </tr>\n",
       "    <tr>\n",
       "      <th>2</th>\n",
       "      <td>Fish and other fishing products; aquaculture p...</td>\n",
       "      <td>Intermediate consumption at basic prices</td>\n",
       "      <td>1.071247</td>\n",
       "    </tr>\n",
       "    <tr>\n",
       "      <th>3</th>\n",
       "      <td>Coal and lignite</td>\n",
       "      <td>Intermediate consumption at basic prices</td>\n",
       "      <td>0.861165</td>\n",
       "    </tr>\n",
       "    <tr>\n",
       "      <th>4</th>\n",
       "      <td>Extraction Of Crude Petroleum And Natural Gas ...</td>\n",
       "      <td>Intermediate consumption at basic prices</td>\n",
       "      <td>0.599118</td>\n",
       "    </tr>\n",
       "  </tbody>\n",
       "</table>\n",
       "</div>"
      ],
      "text/plain": [
       "                                             Product  \\\n",
       "0  Products of agriculture, hunting and related s...   \n",
       "1  Products of forestry, logging and related serv...   \n",
       "2  Fish and other fishing products; aquaculture p...   \n",
       "3                                   Coal and lignite   \n",
       "4  Extraction Of Crude Petroleum And Natural Gas ...   \n",
       "\n",
       "                                   variable     value  \n",
       "0  Intermediate consumption at basic prices  1.005450  \n",
       "1  Intermediate consumption at basic prices  1.022336  \n",
       "2  Intermediate consumption at basic prices  1.071247  \n",
       "3  Intermediate consumption at basic prices  0.861165  \n",
       "4  Intermediate consumption at basic prices  0.599118  "
      ]
     },
     "execution_count": 9,
     "metadata": {},
     "output_type": "execute_result"
    }
   ],
   "source": [
    "effects['value'] = effects['value'].astype(float)\n",
    "effects.head()"
   ]
  },
  {
   "cell_type": "code",
   "execution_count": 10,
   "metadata": {},
   "outputs": [
    {
     "data": {
      "text/html": [
       "<div>\n",
       "<style scoped>\n",
       "    .dataframe tbody tr th:only-of-type {\n",
       "        vertical-align: middle;\n",
       "    }\n",
       "\n",
       "    .dataframe tbody tr th {\n",
       "        vertical-align: top;\n",
       "    }\n",
       "\n",
       "    .dataframe thead th {\n",
       "        text-align: right;\n",
       "    }\n",
       "</style>\n",
       "<table border=\"1\" class=\"dataframe\">\n",
       "  <thead>\n",
       "    <tr style=\"text-align: right;\">\n",
       "      <th></th>\n",
       "      <th>Product</th>\n",
       "      <th>variable</th>\n",
       "      <th>value</th>\n",
       "      <th>factor</th>\n",
       "    </tr>\n",
       "  </thead>\n",
       "  <tbody>\n",
       "    <tr>\n",
       "      <th>0</th>\n",
       "      <td>Products of agriculture, hunting and related s...</td>\n",
       "      <td>Intermediate consumption at basic prices</td>\n",
       "      <td>1.005450</td>\n",
       "      <td>total impact</td>\n",
       "    </tr>\n",
       "    <tr>\n",
       "      <th>1</th>\n",
       "      <td>Products of forestry, logging and related serv...</td>\n",
       "      <td>Intermediate consumption at basic prices</td>\n",
       "      <td>1.022336</td>\n",
       "      <td>total impact</td>\n",
       "    </tr>\n",
       "    <tr>\n",
       "      <th>2</th>\n",
       "      <td>Fish and other fishing products; aquaculture p...</td>\n",
       "      <td>Intermediate consumption at basic prices</td>\n",
       "      <td>1.071247</td>\n",
       "      <td>total impact</td>\n",
       "    </tr>\n",
       "    <tr>\n",
       "      <th>3</th>\n",
       "      <td>Coal and lignite</td>\n",
       "      <td>Intermediate consumption at basic prices</td>\n",
       "      <td>0.861165</td>\n",
       "      <td>total impact</td>\n",
       "    </tr>\n",
       "    <tr>\n",
       "      <th>4</th>\n",
       "      <td>Extraction Of Crude Petroleum And Natural Gas ...</td>\n",
       "      <td>Intermediate consumption at basic prices</td>\n",
       "      <td>0.599118</td>\n",
       "      <td>total impact</td>\n",
       "    </tr>\n",
       "  </tbody>\n",
       "</table>\n",
       "</div>"
      ],
      "text/plain": [
       "                                             Product  \\\n",
       "0  Products of agriculture, hunting and related s...   \n",
       "1  Products of forestry, logging and related serv...   \n",
       "2  Fish and other fishing products; aquaculture p...   \n",
       "3                                   Coal and lignite   \n",
       "4  Extraction Of Crude Petroleum And Natural Gas ...   \n",
       "\n",
       "                                   variable     value        factor  \n",
       "0  Intermediate consumption at basic prices  1.005450  total impact  \n",
       "1  Intermediate consumption at basic prices  1.022336  total impact  \n",
       "2  Intermediate consumption at basic prices  1.071247  total impact  \n",
       "3  Intermediate consumption at basic prices  0.861165  total impact  \n",
       "4  Intermediate consumption at basic prices  0.599118  total impact  "
      ]
     },
     "execution_count": 10,
     "metadata": {},
     "output_type": "execute_result"
    }
   ],
   "source": [
    "effects['factor'] = 'total impact'\n",
    "effects.head()"
   ]
  },
  {
   "cell_type": "code",
   "execution_count": 11,
   "metadata": {},
   "outputs": [],
   "source": [
    "effects.to_csv('data/detailed_effects.csv')"
   ]
  }
 ],
 "metadata": {
  "kernelspec": {
   "display_name": "Python 3.9.12 ('base')",
   "language": "python",
   "name": "python3"
  },
  "language_info": {
   "codemirror_mode": {
    "name": "ipython",
    "version": 3
   },
   "file_extension": ".py",
   "mimetype": "text/x-python",
   "name": "python",
   "nbconvert_exporter": "python",
   "pygments_lexer": "ipython3",
   "version": "3.9.12"
  },
  "orig_nbformat": 4,
  "vscode": {
   "interpreter": {
    "hash": "e64d64c086741ef4a01b1973e253f24b05e5f8201e043641bb65f7528e84d7ba"
   }
  }
 },
 "nbformat": 4,
 "nbformat_minor": 2
}
