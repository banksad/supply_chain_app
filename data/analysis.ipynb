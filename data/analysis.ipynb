{
 "cells": [
  {
   "cell_type": "code",
   "execution_count": 1,
   "metadata": {},
   "outputs": [
    {
     "name": "stderr",
     "output_type": "stream",
     "text": [
      "/Users/andrewbanks/opt/anaconda3/lib/python3.9/site-packages/scipy/__init__.py:146: UserWarning: A NumPy version >=1.16.5 and <1.23.0 is required for this version of SciPy (detected version 1.23.2\n",
      "  warnings.warn(f\"A NumPy version >={np_minversion} and <{np_maxversion}\"\n"
     ]
    }
   ],
   "source": [
    "\n",
    "import pandas as pd\n",
    "import matplotlib.pyplot as plt\n",
    "import numpy as np\n",
    "import plotly.express as px"
   ]
  },
  {
   "cell_type": "code",
   "execution_count": 23,
   "metadata": {},
   "outputs": [
    {
     "data": {
      "text/html": [
       "<div>\n",
       "<style scoped>\n",
       "    .dataframe tbody tr th:only-of-type {\n",
       "        vertical-align: middle;\n",
       "    }\n",
       "\n",
       "    .dataframe tbody tr th {\n",
       "        vertical-align: top;\n",
       "    }\n",
       "\n",
       "    .dataframe thead th {\n",
       "        text-align: right;\n",
       "    }\n",
       "</style>\n",
       "<table border=\"1\" class=\"dataframe\">\n",
       "  <thead>\n",
       "    <tr style=\"text-align: right;\">\n",
       "      <th></th>\n",
       "      <th>Unnamed: 0.1</th>\n",
       "      <th>Unnamed: 0</th>\n",
       "      <th>input requirements</th>\n",
       "      <th>industry</th>\n",
       "      <th>value</th>\n",
       "      <th>proportion</th>\n",
       "      <th>component</th>\n",
       "      <th>proportion_total</th>\n",
       "    </tr>\n",
       "  </thead>\n",
       "  <tbody>\n",
       "    <tr>\n",
       "      <th>0</th>\n",
       "      <td>0</td>\n",
       "      <td>0</td>\n",
       "      <td>A01 Products of agriculture, hunting and relat...</td>\n",
       "      <td>A01 Crop And Animal Production, Hunting And Re...</td>\n",
       "      <td>484.0</td>\n",
       "      <td>0.706569</td>\n",
       "      <td>Imported inputs</td>\n",
       "      <td>0.028102</td>\n",
       "    </tr>\n",
       "    <tr>\n",
       "      <th>1</th>\n",
       "      <td>1</td>\n",
       "      <td>1</td>\n",
       "      <td>A02 Products of forestry, logging and related ...</td>\n",
       "      <td>A01 Crop And Animal Production, Hunting And Re...</td>\n",
       "      <td>1.0</td>\n",
       "      <td>0.001460</td>\n",
       "      <td>Imported inputs</td>\n",
       "      <td>0.000058</td>\n",
       "    </tr>\n",
       "    <tr>\n",
       "      <th>2</th>\n",
       "      <td>2</td>\n",
       "      <td>2</td>\n",
       "      <td>A03 Fish and other fishing products; aquacultu...</td>\n",
       "      <td>A01 Crop And Animal Production, Hunting And Re...</td>\n",
       "      <td>0.0</td>\n",
       "      <td>0.000000</td>\n",
       "      <td>Imported inputs</td>\n",
       "      <td>0.000000</td>\n",
       "    </tr>\n",
       "    <tr>\n",
       "      <th>3</th>\n",
       "      <td>3</td>\n",
       "      <td>3</td>\n",
       "      <td>B05 Coal and lignite</td>\n",
       "      <td>A01 Crop And Animal Production, Hunting And Re...</td>\n",
       "      <td>0.0</td>\n",
       "      <td>0.000000</td>\n",
       "      <td>Imported inputs</td>\n",
       "      <td>0.000000</td>\n",
       "    </tr>\n",
       "    <tr>\n",
       "      <th>4</th>\n",
       "      <td>4</td>\n",
       "      <td>4</td>\n",
       "      <td>B06 &amp; B07 Extraction Of Crude Petroleum And Na...</td>\n",
       "      <td>A01 Crop And Animal Production, Hunting And Re...</td>\n",
       "      <td>0.0</td>\n",
       "      <td>0.000000</td>\n",
       "      <td>Imported inputs</td>\n",
       "      <td>0.000000</td>\n",
       "    </tr>\n",
       "  </tbody>\n",
       "</table>\n",
       "</div>"
      ],
      "text/plain": [
       "   Unnamed: 0.1  Unnamed: 0  \\\n",
       "0             0           0   \n",
       "1             1           1   \n",
       "2             2           2   \n",
       "3             3           3   \n",
       "4             4           4   \n",
       "\n",
       "                                  input requirements  \\\n",
       "0  A01 Products of agriculture, hunting and relat...   \n",
       "1  A02 Products of forestry, logging and related ...   \n",
       "2  A03 Fish and other fishing products; aquacultu...   \n",
       "3                               B05 Coal and lignite   \n",
       "4  B06 & B07 Extraction Of Crude Petroleum And Na...   \n",
       "\n",
       "                                            industry  value  proportion  \\\n",
       "0  A01 Crop And Animal Production, Hunting And Re...  484.0    0.706569   \n",
       "1  A01 Crop And Animal Production, Hunting And Re...    1.0    0.001460   \n",
       "2  A01 Crop And Animal Production, Hunting And Re...    0.0    0.000000   \n",
       "3  A01 Crop And Animal Production, Hunting And Re...    0.0    0.000000   \n",
       "4  A01 Crop And Animal Production, Hunting And Re...    0.0    0.000000   \n",
       "\n",
       "         component  proportion_total  \n",
       "0  Imported inputs          0.028102  \n",
       "1  Imported inputs          0.000058  \n",
       "2  Imported inputs          0.000000  \n",
       "3  Imported inputs          0.000000  \n",
       "4  Imported inputs          0.000000  "
      ]
     },
     "execution_count": 23,
     "metadata": {},
     "output_type": "execute_result"
    }
   ],
   "source": [
    "combined = pd.read_csv('combined_pi.csv')\n",
    "combined.head()"
   ]
  },
  {
   "cell_type": "code",
   "execution_count": 24,
   "metadata": {},
   "outputs": [],
   "source": [
    "combined_product = 'A01 Products of agriculture, hunting and related services'"
   ]
  },
  {
   "cell_type": "code",
   "execution_count": 25,
   "metadata": {},
   "outputs": [
    {
     "name": "stderr",
     "output_type": "stream",
     "text": [
      "/var/folders/9l/qbx4p6vn46ldsb194p852z900000gn/T/ipykernel_37812/4045080245.py:3: SettingWithCopyWarning:\n",
      "\n",
      "\n",
      "A value is trying to be set on a copy of a slice from a DataFrame.\n",
      "Try using .loc[row_indexer,col_indexer] = value instead\n",
      "\n",
      "See the caveats in the documentation: https://pandas.pydata.org/pandas-docs/stable/user_guide/indexing.html#returning-a-view-versus-a-copy\n",
      "\n",
      "/var/folders/9l/qbx4p6vn46ldsb194p852z900000gn/T/ipykernel_37812/4045080245.py:4: SettingWithCopyWarning:\n",
      "\n",
      "\n",
      "A value is trying to be set on a copy of a slice from a DataFrame.\n",
      "Try using .loc[row_indexer,col_indexer] = value instead\n",
      "\n",
      "See the caveats in the documentation: https://pandas.pydata.org/pandas-docs/stable/user_guide/indexing.html#returning-a-view-versus-a-copy\n",
      "\n"
     ]
    },
    {
     "data": {
      "text/html": [
       "<div>\n",
       "<style scoped>\n",
       "    .dataframe tbody tr th:only-of-type {\n",
       "        vertical-align: middle;\n",
       "    }\n",
       "\n",
       "    .dataframe tbody tr th {\n",
       "        vertical-align: top;\n",
       "    }\n",
       "\n",
       "    .dataframe thead th {\n",
       "        text-align: right;\n",
       "    }\n",
       "</style>\n",
       "<table border=\"1\" class=\"dataframe\">\n",
       "  <thead>\n",
       "    <tr style=\"text-align: right;\">\n",
       "      <th></th>\n",
       "      <th>Unnamed: 0.1</th>\n",
       "      <th>Unnamed: 0</th>\n",
       "      <th>input requirements</th>\n",
       "      <th>industry</th>\n",
       "      <th>value</th>\n",
       "      <th>proportion</th>\n",
       "      <th>component</th>\n",
       "      <th>proportion_total</th>\n",
       "      <th>input_product_trun</th>\n",
       "      <th>industry_trun</th>\n",
       "    </tr>\n",
       "  </thead>\n",
       "  <tbody>\n",
       "    <tr>\n",
       "      <th>0</th>\n",
       "      <td>0</td>\n",
       "      <td>0</td>\n",
       "      <td>A01 Products of agriculture, hunting and relat...</td>\n",
       "      <td>A01 Crop And Animal Production, Hunting And Re...</td>\n",
       "      <td>484.0</td>\n",
       "      <td>0.706569</td>\n",
       "      <td>Imported inputs</td>\n",
       "      <td>0.028102</td>\n",
       "      <td>A01 Products of agri...</td>\n",
       "      <td>A01 Crop And Animal ...</td>\n",
       "    </tr>\n",
       "    <tr>\n",
       "      <th>104</th>\n",
       "      <td>104</td>\n",
       "      <td>104</td>\n",
       "      <td>A01 Products of agriculture, hunting and relat...</td>\n",
       "      <td>A02 Forestry And Logging</td>\n",
       "      <td>3.0</td>\n",
       "      <td>0.214286</td>\n",
       "      <td>Imported inputs</td>\n",
       "      <td>0.003188</td>\n",
       "      <td>A01 Products of agri...</td>\n",
       "      <td>A02 Forestry And Log...</td>\n",
       "    </tr>\n",
       "    <tr>\n",
       "      <th>208</th>\n",
       "      <td>208</td>\n",
       "      <td>208</td>\n",
       "      <td>A01 Products of agriculture, hunting and relat...</td>\n",
       "      <td>A03 Fishing And Aquaculture</td>\n",
       "      <td>0.0</td>\n",
       "      <td>0.000000</td>\n",
       "      <td>Imported inputs</td>\n",
       "      <td>0.000000</td>\n",
       "      <td>A01 Products of agri...</td>\n",
       "      <td>A03 Fishing And Aqua...</td>\n",
       "    </tr>\n",
       "    <tr>\n",
       "      <th>312</th>\n",
       "      <td>312</td>\n",
       "      <td>312</td>\n",
       "      <td>A01 Products of agriculture, hunting and relat...</td>\n",
       "      <td>B05 Mining Of Coal And Lignite</td>\n",
       "      <td>0.0</td>\n",
       "      <td>0.000000</td>\n",
       "      <td>Imported inputs</td>\n",
       "      <td>0.000000</td>\n",
       "      <td>A01 Products of agri...</td>\n",
       "      <td>B05 Mining Of Coal A...</td>\n",
       "    </tr>\n",
       "    <tr>\n",
       "      <th>416</th>\n",
       "      <td>416</td>\n",
       "      <td>416</td>\n",
       "      <td>A01 Products of agriculture, hunting and relat...</td>\n",
       "      <td>B06 &amp; B07 Extraction Of Crude Petroleum And Na...</td>\n",
       "      <td>0.0</td>\n",
       "      <td>0.000000</td>\n",
       "      <td>Imported inputs</td>\n",
       "      <td>0.000000</td>\n",
       "      <td>A01 Products of agri...</td>\n",
       "      <td>B06 &amp; B07 Extraction...</td>\n",
       "    </tr>\n",
       "    <tr>\n",
       "      <th>...</th>\n",
       "      <td>...</td>\n",
       "      <td>...</td>\n",
       "      <td>...</td>\n",
       "      <td>...</td>\n",
       "      <td>...</td>\n",
       "      <td>...</td>\n",
       "      <td>...</td>\n",
       "      <td>...</td>\n",
       "      <td>...</td>\n",
       "      <td>...</td>\n",
       "    </tr>\n",
       "    <tr>\n",
       "      <th>21211</th>\n",
       "      <td>10395</td>\n",
       "      <td>10395</td>\n",
       "      <td>A01 Products of agriculture, hunting and relat...</td>\n",
       "      <td>R92 Gambling And Betting Activities</td>\n",
       "      <td>23.0</td>\n",
       "      <td>0.004844</td>\n",
       "      <td>Domestically produced inputs</td>\n",
       "      <td>0.004473</td>\n",
       "      <td>A01 Products of agri...</td>\n",
       "      <td>R92 Gambling And Bet...</td>\n",
       "    </tr>\n",
       "    <tr>\n",
       "      <th>21316</th>\n",
       "      <td>10500</td>\n",
       "      <td>10500</td>\n",
       "      <td>A01 Products of agriculture, hunting and relat...</td>\n",
       "      <td>R93 Sports Activities And Amusement And Recrea...</td>\n",
       "      <td>0.0</td>\n",
       "      <td>0.000000</td>\n",
       "      <td>Domestically produced inputs</td>\n",
       "      <td>0.000000</td>\n",
       "      <td>A01 Products of agri...</td>\n",
       "      <td>R93 Sports Activitie...</td>\n",
       "    </tr>\n",
       "    <tr>\n",
       "      <th>21421</th>\n",
       "      <td>10605</td>\n",
       "      <td>10605</td>\n",
       "      <td>A01 Products of agriculture, hunting and relat...</td>\n",
       "      <td>S94 Activities Of Membership Organisations</td>\n",
       "      <td>0.0</td>\n",
       "      <td>0.000000</td>\n",
       "      <td>Domestically produced inputs</td>\n",
       "      <td>0.000000</td>\n",
       "      <td>A01 Products of agri...</td>\n",
       "      <td>S94 Activities Of Me...</td>\n",
       "    </tr>\n",
       "    <tr>\n",
       "      <th>21526</th>\n",
       "      <td>10710</td>\n",
       "      <td>10710</td>\n",
       "      <td>A01 Products of agriculture, hunting and relat...</td>\n",
       "      <td>S95 Repair Of Computers And Personal And House...</td>\n",
       "      <td>2.0</td>\n",
       "      <td>0.001486</td>\n",
       "      <td>Domestically produced inputs</td>\n",
       "      <td>0.001195</td>\n",
       "      <td>A01 Products of agri...</td>\n",
       "      <td>S95 Repair Of Comput...</td>\n",
       "    </tr>\n",
       "    <tr>\n",
       "      <th>21631</th>\n",
       "      <td>10815</td>\n",
       "      <td>10815</td>\n",
       "      <td>A01 Products of agriculture, hunting and relat...</td>\n",
       "      <td>S96 Other Personal Service Activities</td>\n",
       "      <td>0.0</td>\n",
       "      <td>0.000000</td>\n",
       "      <td>Domestically produced inputs</td>\n",
       "      <td>0.000000</td>\n",
       "      <td>A01 Products of agri...</td>\n",
       "      <td>S96 Other Personal S...</td>\n",
       "    </tr>\n",
       "  </tbody>\n",
       "</table>\n",
       "<p>208 rows × 10 columns</p>\n",
       "</div>"
      ],
      "text/plain": [
       "       Unnamed: 0.1  Unnamed: 0  \\\n",
       "0                 0           0   \n",
       "104             104         104   \n",
       "208             208         208   \n",
       "312             312         312   \n",
       "416             416         416   \n",
       "...             ...         ...   \n",
       "21211         10395       10395   \n",
       "21316         10500       10500   \n",
       "21421         10605       10605   \n",
       "21526         10710       10710   \n",
       "21631         10815       10815   \n",
       "\n",
       "                                      input requirements  \\\n",
       "0      A01 Products of agriculture, hunting and relat...   \n",
       "104    A01 Products of agriculture, hunting and relat...   \n",
       "208    A01 Products of agriculture, hunting and relat...   \n",
       "312    A01 Products of agriculture, hunting and relat...   \n",
       "416    A01 Products of agriculture, hunting and relat...   \n",
       "...                                                  ...   \n",
       "21211  A01 Products of agriculture, hunting and relat...   \n",
       "21316  A01 Products of agriculture, hunting and relat...   \n",
       "21421  A01 Products of agriculture, hunting and relat...   \n",
       "21526  A01 Products of agriculture, hunting and relat...   \n",
       "21631  A01 Products of agriculture, hunting and relat...   \n",
       "\n",
       "                                                industry  value  proportion  \\\n",
       "0      A01 Crop And Animal Production, Hunting And Re...  484.0    0.706569   \n",
       "104                             A02 Forestry And Logging    3.0    0.214286   \n",
       "208                          A03 Fishing And Aquaculture    0.0    0.000000   \n",
       "312                       B05 Mining Of Coal And Lignite    0.0    0.000000   \n",
       "416    B06 & B07 Extraction Of Crude Petroleum And Na...    0.0    0.000000   \n",
       "...                                                  ...    ...         ...   \n",
       "21211                R92 Gambling And Betting Activities   23.0    0.004844   \n",
       "21316  R93 Sports Activities And Amusement And Recrea...    0.0    0.000000   \n",
       "21421         S94 Activities Of Membership Organisations    0.0    0.000000   \n",
       "21526  S95 Repair Of Computers And Personal And House...    2.0    0.001486   \n",
       "21631              S96 Other Personal Service Activities    0.0    0.000000   \n",
       "\n",
       "                          component  proportion_total  \\\n",
       "0                   Imported inputs          0.028102   \n",
       "104                 Imported inputs          0.003188   \n",
       "208                 Imported inputs          0.000000   \n",
       "312                 Imported inputs          0.000000   \n",
       "416                 Imported inputs          0.000000   \n",
       "...                             ...               ...   \n",
       "21211  Domestically produced inputs          0.004473   \n",
       "21316  Domestically produced inputs          0.000000   \n",
       "21421  Domestically produced inputs          0.000000   \n",
       "21526  Domestically produced inputs          0.001195   \n",
       "21631  Domestically produced inputs          0.000000   \n",
       "\n",
       "            input_product_trun            industry_trun  \n",
       "0      A01 Products of agri...  A01 Crop And Animal ...  \n",
       "104    A01 Products of agri...  A02 Forestry And Log...  \n",
       "208    A01 Products of agri...  A03 Fishing And Aqua...  \n",
       "312    A01 Products of agri...  B05 Mining Of Coal A...  \n",
       "416    A01 Products of agri...  B06 & B07 Extraction...  \n",
       "...                        ...                      ...  \n",
       "21211  A01 Products of agri...  R92 Gambling And Bet...  \n",
       "21316  A01 Products of agri...  R93 Sports Activitie...  \n",
       "21421  A01 Products of agri...  S94 Activities Of Me...  \n",
       "21526  A01 Products of agri...  S95 Repair Of Comput...  \n",
       "21631  A01 Products of agri...  S96 Other Personal S...  \n",
       "\n",
       "[208 rows x 10 columns]"
      ]
     },
     "execution_count": 25,
     "metadata": {},
     "output_type": "execute_result"
    }
   ],
   "source": [
    "combined_subset = combined[combined['input requirements']==combined_product]\n",
    "\n",
    "combined_subset['input_product_trun'] = combined_subset['input requirements'].apply(lambda x: x[:20]+'...') \n",
    "combined_subset['industry_trun'] = combined_subset['industry'].apply(lambda x: x[:20]+'...') \n",
    "\n",
    "combined_subset"
   ]
  },
  {
   "cell_type": "code",
   "execution_count": 26,
   "metadata": {},
   "outputs": [
    {
     "name": "stdout",
     "output_type": "stream",
     "text": [
      "['C105 Manufacture of ...', 'C101 Processing and ...', 'A01 Crop And Animal ...', 'C106 Manufacture of ...', 'C102_3 Processing an...', 'C109 Manufacture of ...', 'C1101T1106 & C12 Man...', 'C104 Manufacture of ...', 'C15 Manufacture Of L...', 'C108 Manufacture of ...', 'C21 Manufacture Of B...', 'M75 Veterinary Activ...', 'C13 Manufacture Of T...', 'C20A Manufacture of ...', 'R92 Gambling And Bet...', 'A02 Forestry And Log...', 'B08 Other Mining And...', 'D351 Electric power ...', 'G46 Wholesale Trade,...', 'C20B Manufacture of ...']\n"
     ]
    }
   ],
   "source": [
    "yarray = combined_subset.groupby('industry_trun')['proportion_total'].sum().sort_values(ascending=False).head(20).index.tolist()\n",
    "print(yarray)"
   ]
  },
  {
   "cell_type": "code",
   "execution_count": 27,
   "metadata": {},
   "outputs": [
    {
     "name": "stderr",
     "output_type": "stream",
     "text": [
      "/var/folders/9l/qbx4p6vn46ldsb194p852z900000gn/T/ipykernel_37812/366548504.py:2: SettingWithCopyWarning:\n",
      "\n",
      "\n",
      "A value is trying to be set on a copy of a slice from a DataFrame.\n",
      "Try using .loc[row_indexer,col_indexer] = value instead\n",
      "\n",
      "See the caveats in the documentation: https://pandas.pydata.org/pandas-docs/stable/user_guide/indexing.html#returning-a-view-versus-a-copy\n",
      "\n"
     ]
    },
    {
     "data": {
      "text/html": [
       "<div>\n",
       "<style scoped>\n",
       "    .dataframe tbody tr th:only-of-type {\n",
       "        vertical-align: middle;\n",
       "    }\n",
       "\n",
       "    .dataframe tbody tr th {\n",
       "        vertical-align: top;\n",
       "    }\n",
       "\n",
       "    .dataframe thead th {\n",
       "        text-align: right;\n",
       "    }\n",
       "</style>\n",
       "<table border=\"1\" class=\"dataframe\">\n",
       "  <thead>\n",
       "    <tr style=\"text-align: right;\">\n",
       "      <th></th>\n",
       "      <th>Unnamed: 0.1</th>\n",
       "      <th>Unnamed: 0</th>\n",
       "      <th>input requirements</th>\n",
       "      <th>industry</th>\n",
       "      <th>value</th>\n",
       "      <th>proportion</th>\n",
       "      <th>component</th>\n",
       "      <th>proportion_total</th>\n",
       "      <th>input_product_trun</th>\n",
       "      <th>industry_trun</th>\n",
       "    </tr>\n",
       "  </thead>\n",
       "  <tbody>\n",
       "    <tr>\n",
       "      <th>0</th>\n",
       "      <td>0</td>\n",
       "      <td>0</td>\n",
       "      <td>A01 Products of agriculture, hunting and relat...</td>\n",
       "      <td>A01 Crop And Animal Production, Hunting And Re...</td>\n",
       "      <td>484.0</td>\n",
       "      <td>0.706569</td>\n",
       "      <td>Imported inputs</td>\n",
       "      <td>2.810196</td>\n",
       "      <td>A01 Products of agri...</td>\n",
       "      <td>A01 Crop And Animal ...</td>\n",
       "    </tr>\n",
       "    <tr>\n",
       "      <th>104</th>\n",
       "      <td>104</td>\n",
       "      <td>104</td>\n",
       "      <td>A01 Products of agriculture, hunting and relat...</td>\n",
       "      <td>A02 Forestry And Logging</td>\n",
       "      <td>3.0</td>\n",
       "      <td>0.214286</td>\n",
       "      <td>Imported inputs</td>\n",
       "      <td>0.318810</td>\n",
       "      <td>A01 Products of agri...</td>\n",
       "      <td>A02 Forestry And Log...</td>\n",
       "    </tr>\n",
       "    <tr>\n",
       "      <th>520</th>\n",
       "      <td>520</td>\n",
       "      <td>520</td>\n",
       "      <td>A01 Products of agriculture, hunting and relat...</td>\n",
       "      <td>B08 Other Mining And Quarrying</td>\n",
       "      <td>1.0</td>\n",
       "      <td>0.000907</td>\n",
       "      <td>Imported inputs</td>\n",
       "      <td>0.024894</td>\n",
       "      <td>A01 Products of agri...</td>\n",
       "      <td>B08 Other Mining And...</td>\n",
       "    </tr>\n",
       "    <tr>\n",
       "      <th>728</th>\n",
       "      <td>728</td>\n",
       "      <td>728</td>\n",
       "      <td>A01 Products of agriculture, hunting and relat...</td>\n",
       "      <td>C101 Processing and preserving of meat and pro...</td>\n",
       "      <td>154.0</td>\n",
       "      <td>0.395887</td>\n",
       "      <td>Imported inputs</td>\n",
       "      <td>1.063389</td>\n",
       "      <td>A01 Products of agri...</td>\n",
       "      <td>C101 Processing and ...</td>\n",
       "    </tr>\n",
       "    <tr>\n",
       "      <th>832</th>\n",
       "      <td>832</td>\n",
       "      <td>832</td>\n",
       "      <td>A01 Products of agriculture, hunting and relat...</td>\n",
       "      <td>C102_3 Processing and preserving of fish, crus...</td>\n",
       "      <td>11.0</td>\n",
       "      <td>0.104762</td>\n",
       "      <td>Imported inputs</td>\n",
       "      <td>0.157413</td>\n",
       "      <td>A01 Products of agri...</td>\n",
       "      <td>C102_3 Processing an...</td>\n",
       "    </tr>\n",
       "    <tr>\n",
       "      <th>936</th>\n",
       "      <td>936</td>\n",
       "      <td>936</td>\n",
       "      <td>A01 Products of agriculture, hunting and relat...</td>\n",
       "      <td>C104 Manufacture of vegetable and animal oils ...</td>\n",
       "      <td>13.0</td>\n",
       "      <td>0.033679</td>\n",
       "      <td>Imported inputs</td>\n",
       "      <td>1.987768</td>\n",
       "      <td>A01 Products of agri...</td>\n",
       "      <td>C104 Manufacture of ...</td>\n",
       "    </tr>\n",
       "    <tr>\n",
       "      <th>1040</th>\n",
       "      <td>1040</td>\n",
       "      <td>1040</td>\n",
       "      <td>A01 Products of agriculture, hunting and relat...</td>\n",
       "      <td>C105 Manufacture of dairy products</td>\n",
       "      <td>3.0</td>\n",
       "      <td>0.015544</td>\n",
       "      <td>Imported inputs</td>\n",
       "      <td>0.041402</td>\n",
       "      <td>A01 Products of agri...</td>\n",
       "      <td>C105 Manufacture of ...</td>\n",
       "    </tr>\n",
       "    <tr>\n",
       "      <th>1144</th>\n",
       "      <td>1144</td>\n",
       "      <td>1144</td>\n",
       "      <td>A01 Products of agriculture, hunting and relat...</td>\n",
       "      <td>C106 Manufacture of grain mill products, starc...</td>\n",
       "      <td>111.0</td>\n",
       "      <td>0.223340</td>\n",
       "      <td>Imported inputs</td>\n",
       "      <td>2.320234</td>\n",
       "      <td>A01 Products of agri...</td>\n",
       "      <td>C106 Manufacture of ...</td>\n",
       "    </tr>\n",
       "    <tr>\n",
       "      <th>1352</th>\n",
       "      <td>1352</td>\n",
       "      <td>1352</td>\n",
       "      <td>A01 Products of agriculture, hunting and relat...</td>\n",
       "      <td>C108 Manufacture of other food products</td>\n",
       "      <td>233.0</td>\n",
       "      <td>0.098687</td>\n",
       "      <td>Imported inputs</td>\n",
       "      <td>1.860279</td>\n",
       "      <td>A01 Products of agri...</td>\n",
       "      <td>C108 Manufacture of ...</td>\n",
       "    </tr>\n",
       "    <tr>\n",
       "      <th>1456</th>\n",
       "      <td>1456</td>\n",
       "      <td>1456</td>\n",
       "      <td>A01 Products of agriculture, hunting and relat...</td>\n",
       "      <td>C109 Manufacture of prepared animal feeds</td>\n",
       "      <td>22.0</td>\n",
       "      <td>0.045833</td>\n",
       "      <td>Imported inputs</td>\n",
       "      <td>0.384952</td>\n",
       "      <td>A01 Products of agri...</td>\n",
       "      <td>C109 Manufacture of ...</td>\n",
       "    </tr>\n",
       "    <tr>\n",
       "      <th>1560</th>\n",
       "      <td>1560</td>\n",
       "      <td>1560</td>\n",
       "      <td>A01 Products of agriculture, hunting and relat...</td>\n",
       "      <td>C1101T1106 &amp; C12 Manufacture of alcoholic beve...</td>\n",
       "      <td>145.0</td>\n",
       "      <td>0.313175</td>\n",
       "      <td>Imported inputs</td>\n",
       "      <td>2.029675</td>\n",
       "      <td>A01 Products of agri...</td>\n",
       "      <td>C1101T1106 &amp; C12 Man...</td>\n",
       "    </tr>\n",
       "    <tr>\n",
       "      <th>1768</th>\n",
       "      <td>1768</td>\n",
       "      <td>1768</td>\n",
       "      <td>A01 Products of agriculture, hunting and relat...</td>\n",
       "      <td>C13 Manufacture Of Textiles</td>\n",
       "      <td>24.0</td>\n",
       "      <td>0.019033</td>\n",
       "      <td>Imported inputs</td>\n",
       "      <td>0.738916</td>\n",
       "      <td>A01 Products of agri...</td>\n",
       "      <td>C13 Manufacture Of T...</td>\n",
       "    </tr>\n",
       "    <tr>\n",
       "      <th>1976</th>\n",
       "      <td>1976</td>\n",
       "      <td>1976</td>\n",
       "      <td>A01 Products of agriculture, hunting and relat...</td>\n",
       "      <td>C15 Manufacture Of Leather And Related Products</td>\n",
       "      <td>2.0</td>\n",
       "      <td>0.010256</td>\n",
       "      <td>Imported inputs</td>\n",
       "      <td>0.347826</td>\n",
       "      <td>A01 Products of agri...</td>\n",
       "      <td>C15 Manufacture Of L...</td>\n",
       "    </tr>\n",
       "    <tr>\n",
       "      <th>2808</th>\n",
       "      <td>2808</td>\n",
       "      <td>2808</td>\n",
       "      <td>A01 Products of agriculture, hunting and relat...</td>\n",
       "      <td>C20A Manufacture of industrial gases, inorgani...</td>\n",
       "      <td>6.0</td>\n",
       "      <td>0.003536</td>\n",
       "      <td>Imported inputs</td>\n",
       "      <td>0.182927</td>\n",
       "      <td>A01 Products of agri...</td>\n",
       "      <td>C20A Manufacture of ...</td>\n",
       "    </tr>\n",
       "    <tr>\n",
       "      <th>2912</th>\n",
       "      <td>2912</td>\n",
       "      <td>2912</td>\n",
       "      <td>A01 Products of agriculture, hunting and relat...</td>\n",
       "      <td>C20B Manufacture of petrochemicals - 20.14/16/...</td>\n",
       "      <td>15.0</td>\n",
       "      <td>0.003997</td>\n",
       "      <td>Imported inputs</td>\n",
       "      <td>0.146313</td>\n",
       "      <td>A01 Products of agri...</td>\n",
       "      <td>C20B Manufacture of ...</td>\n",
       "    </tr>\n",
       "    <tr>\n",
       "      <th>3120</th>\n",
       "      <td>3120</td>\n",
       "      <td>3120</td>\n",
       "      <td>A01 Products of agriculture, hunting and relat...</td>\n",
       "      <td>C21 Manufacture Of Basic Pharmaceutical Produc...</td>\n",
       "      <td>7.0</td>\n",
       "      <td>0.001628</td>\n",
       "      <td>Imported inputs</td>\n",
       "      <td>0.052321</td>\n",
       "      <td>A01 Products of agri...</td>\n",
       "      <td>C21 Manufacture Of B...</td>\n",
       "    </tr>\n",
       "    <tr>\n",
       "      <th>5200</th>\n",
       "      <td>5200</td>\n",
       "      <td>5200</td>\n",
       "      <td>A01 Products of agriculture, hunting and relat...</td>\n",
       "      <td>D351 Electric power generation, transmission a...</td>\n",
       "      <td>0.0</td>\n",
       "      <td>0.000000</td>\n",
       "      <td>Imported inputs</td>\n",
       "      <td>0.000000</td>\n",
       "      <td>A01 Products of agri...</td>\n",
       "      <td>D351 Electric power ...</td>\n",
       "    </tr>\n",
       "    <tr>\n",
       "      <th>6032</th>\n",
       "      <td>6032</td>\n",
       "      <td>6032</td>\n",
       "      <td>A01 Products of agriculture, hunting and relat...</td>\n",
       "      <td>G46 Wholesale Trade, Except Of Motor Vehicles ...</td>\n",
       "      <td>112.0</td>\n",
       "      <td>0.011551</td>\n",
       "      <td>Imported inputs</td>\n",
       "      <td>0.164141</td>\n",
       "      <td>A01 Products of agri...</td>\n",
       "      <td>G46 Wholesale Trade,...</td>\n",
       "    </tr>\n",
       "    <tr>\n",
       "      <th>8944</th>\n",
       "      <td>8944</td>\n",
       "      <td>8944</td>\n",
       "      <td>A01 Products of agriculture, hunting and relat...</td>\n",
       "      <td>M75 Veterinary Activities</td>\n",
       "      <td>1.0</td>\n",
       "      <td>0.014925</td>\n",
       "      <td>Imported inputs</td>\n",
       "      <td>0.077882</td>\n",
       "      <td>A01 Products of agri...</td>\n",
       "      <td>M75 Veterinary Activ...</td>\n",
       "    </tr>\n",
       "    <tr>\n",
       "      <th>10296</th>\n",
       "      <td>10296</td>\n",
       "      <td>10296</td>\n",
       "      <td>A01 Products of agriculture, hunting and relat...</td>\n",
       "      <td>R92 Gambling And Betting Activities</td>\n",
       "      <td>0.0</td>\n",
       "      <td>0.000000</td>\n",
       "      <td>Imported inputs</td>\n",
       "      <td>0.000000</td>\n",
       "      <td>A01 Products of agri...</td>\n",
       "      <td>R92 Gambling And Bet...</td>\n",
       "    </tr>\n",
       "    <tr>\n",
       "      <th>10816</th>\n",
       "      <td>0</td>\n",
       "      <td>0</td>\n",
       "      <td>A01 Products of agriculture, hunting and relat...</td>\n",
       "      <td>A01 Crop And Animal Production, Hunting And Re...</td>\n",
       "      <td>3493.0</td>\n",
       "      <td>0.211211</td>\n",
       "      <td>Domestically produced inputs</td>\n",
       "      <td>20.281020</td>\n",
       "      <td>A01 Products of agri...</td>\n",
       "      <td>A01 Crop And Animal ...</td>\n",
       "    </tr>\n",
       "    <tr>\n",
       "      <th>10921</th>\n",
       "      <td>105</td>\n",
       "      <td>105</td>\n",
       "      <td>A01 Products of agriculture, hunting and relat...</td>\n",
       "      <td>A02 Forestry And Logging</td>\n",
       "      <td>0.0</td>\n",
       "      <td>0.000000</td>\n",
       "      <td>Domestically produced inputs</td>\n",
       "      <td>0.000000</td>\n",
       "      <td>A01 Products of agri...</td>\n",
       "      <td>A02 Forestry And Log...</td>\n",
       "    </tr>\n",
       "    <tr>\n",
       "      <th>11341</th>\n",
       "      <td>525</td>\n",
       "      <td>525</td>\n",
       "      <td>A01 Products of agriculture, hunting and relat...</td>\n",
       "      <td>B08 Other Mining And Quarrying</td>\n",
       "      <td>7.0</td>\n",
       "      <td>0.002402</td>\n",
       "      <td>Domestically produced inputs</td>\n",
       "      <td>0.174259</td>\n",
       "      <td>A01 Products of agri...</td>\n",
       "      <td>B08 Other Mining And...</td>\n",
       "    </tr>\n",
       "    <tr>\n",
       "      <th>11551</th>\n",
       "      <td>735</td>\n",
       "      <td>735</td>\n",
       "      <td>A01 Products of agriculture, hunting and relat...</td>\n",
       "      <td>C101 Processing and preserving of meat and pro...</td>\n",
       "      <td>5206.0</td>\n",
       "      <td>0.369403</td>\n",
       "      <td>Domestically produced inputs</td>\n",
       "      <td>35.948073</td>\n",
       "      <td>A01 Products of agri...</td>\n",
       "      <td>C101 Processing and ...</td>\n",
       "    </tr>\n",
       "    <tr>\n",
       "      <th>11656</th>\n",
       "      <td>840</td>\n",
       "      <td>840</td>\n",
       "      <td>A01 Products of agriculture, hunting and relat...</td>\n",
       "      <td>C102_3 Processing and preserving of fish, crus...</td>\n",
       "      <td>1282.0</td>\n",
       "      <td>0.186256</td>\n",
       "      <td>Domestically produced inputs</td>\n",
       "      <td>18.345736</td>\n",
       "      <td>A01 Products of agri...</td>\n",
       "      <td>C102_3 Processing an...</td>\n",
       "    </tr>\n",
       "    <tr>\n",
       "      <th>11761</th>\n",
       "      <td>945</td>\n",
       "      <td>945</td>\n",
       "      <td>A01 Products of agriculture, hunting and relat...</td>\n",
       "      <td>C104 Manufacture of vegetable and animal oils ...</td>\n",
       "      <td>1.0</td>\n",
       "      <td>0.003731</td>\n",
       "      <td>Domestically produced inputs</td>\n",
       "      <td>0.152905</td>\n",
       "      <td>A01 Products of agri...</td>\n",
       "      <td>C104 Manufacture of ...</td>\n",
       "    </tr>\n",
       "    <tr>\n",
       "      <th>11866</th>\n",
       "      <td>1050</td>\n",
       "      <td>1050</td>\n",
       "      <td>A01 Products of agriculture, hunting and relat...</td>\n",
       "      <td>C105 Manufacture of dairy products</td>\n",
       "      <td>3336.0</td>\n",
       "      <td>0.472990</td>\n",
       "      <td>Domestically produced inputs</td>\n",
       "      <td>46.039194</td>\n",
       "      <td>A01 Products of agri...</td>\n",
       "      <td>C105 Manufacture of ...</td>\n",
       "    </tr>\n",
       "    <tr>\n",
       "      <th>11971</th>\n",
       "      <td>1155</td>\n",
       "      <td>1155</td>\n",
       "      <td>A01 Products of agriculture, hunting and relat...</td>\n",
       "      <td>C106 Manufacture of grain mill products, starc...</td>\n",
       "      <td>827.0</td>\n",
       "      <td>0.192909</td>\n",
       "      <td>Domestically produced inputs</td>\n",
       "      <td>17.286789</td>\n",
       "      <td>A01 Products of agri...</td>\n",
       "      <td>C106 Manufacture of ...</td>\n",
       "    </tr>\n",
       "    <tr>\n",
       "      <th>12181</th>\n",
       "      <td>1365</td>\n",
       "      <td>1365</td>\n",
       "      <td>A01 Products of agriculture, hunting and relat...</td>\n",
       "      <td>C108 Manufacture of other food products</td>\n",
       "      <td>5.0</td>\n",
       "      <td>0.000492</td>\n",
       "      <td>Domestically produced inputs</td>\n",
       "      <td>0.039920</td>\n",
       "      <td>A01 Products of agri...</td>\n",
       "      <td>C108 Manufacture of ...</td>\n",
       "    </tr>\n",
       "    <tr>\n",
       "      <th>12286</th>\n",
       "      <td>1470</td>\n",
       "      <td>1470</td>\n",
       "      <td>A01 Products of agriculture, hunting and relat...</td>\n",
       "      <td>C109 Manufacture of prepared animal feeds</td>\n",
       "      <td>859.0</td>\n",
       "      <td>0.164088</td>\n",
       "      <td>Domestically produced inputs</td>\n",
       "      <td>15.030621</td>\n",
       "      <td>A01 Products of agri...</td>\n",
       "      <td>C109 Manufacture of ...</td>\n",
       "    </tr>\n",
       "    <tr>\n",
       "      <th>12391</th>\n",
       "      <td>1575</td>\n",
       "      <td>1575</td>\n",
       "      <td>A01 Products of agriculture, hunting and relat...</td>\n",
       "      <td>C1101T1106 &amp; C12 Manufacture of alcoholic beve...</td>\n",
       "      <td>451.0</td>\n",
       "      <td>0.067505</td>\n",
       "      <td>Domestically produced inputs</td>\n",
       "      <td>6.312990</td>\n",
       "      <td>A01 Products of agri...</td>\n",
       "      <td>C1101T1106 &amp; C12 Man...</td>\n",
       "    </tr>\n",
       "    <tr>\n",
       "      <th>12601</th>\n",
       "      <td>1785</td>\n",
       "      <td>1785</td>\n",
       "      <td>A01 Products of agriculture, hunting and relat...</td>\n",
       "      <td>C13 Manufacture Of Textiles</td>\n",
       "      <td>0.0</td>\n",
       "      <td>0.000000</td>\n",
       "      <td>Domestically produced inputs</td>\n",
       "      <td>0.000000</td>\n",
       "      <td>A01 Products of agri...</td>\n",
       "      <td>C13 Manufacture Of T...</td>\n",
       "    </tr>\n",
       "    <tr>\n",
       "      <th>12811</th>\n",
       "      <td>1995</td>\n",
       "      <td>1995</td>\n",
       "      <td>A01 Products of agriculture, hunting and relat...</td>\n",
       "      <td>C15 Manufacture Of Leather And Related Products</td>\n",
       "      <td>9.0</td>\n",
       "      <td>0.023684</td>\n",
       "      <td>Domestically produced inputs</td>\n",
       "      <td>1.565217</td>\n",
       "      <td>A01 Products of agri...</td>\n",
       "      <td>C15 Manufacture Of L...</td>\n",
       "    </tr>\n",
       "    <tr>\n",
       "      <th>13651</th>\n",
       "      <td>2835</td>\n",
       "      <td>2835</td>\n",
       "      <td>A01 Products of agriculture, hunting and relat...</td>\n",
       "      <td>C20A Manufacture of industrial gases, inorgani...</td>\n",
       "      <td>12.0</td>\n",
       "      <td>0.007581</td>\n",
       "      <td>Domestically produced inputs</td>\n",
       "      <td>0.365854</td>\n",
       "      <td>A01 Products of agri...</td>\n",
       "      <td>C20A Manufacture of ...</td>\n",
       "    </tr>\n",
       "    <tr>\n",
       "      <th>13756</th>\n",
       "      <td>2940</td>\n",
       "      <td>2940</td>\n",
       "      <td>A01 Products of agriculture, hunting and relat...</td>\n",
       "      <td>C20B Manufacture of petrochemicals - 20.14/16/...</td>\n",
       "      <td>1.0</td>\n",
       "      <td>0.000154</td>\n",
       "      <td>Domestically produced inputs</td>\n",
       "      <td>0.009754</td>\n",
       "      <td>A01 Products of agri...</td>\n",
       "      <td>C20B Manufacture of ...</td>\n",
       "    </tr>\n",
       "    <tr>\n",
       "      <th>13966</th>\n",
       "      <td>3150</td>\n",
       "      <td>3150</td>\n",
       "      <td>A01 Products of agriculture, hunting and relat...</td>\n",
       "      <td>C21 Manufacture Of Basic Pharmaceutical Produc...</td>\n",
       "      <td>152.0</td>\n",
       "      <td>0.016740</td>\n",
       "      <td>Domestically produced inputs</td>\n",
       "      <td>1.136109</td>\n",
       "      <td>A01 Products of agri...</td>\n",
       "      <td>C21 Manufacture Of B...</td>\n",
       "    </tr>\n",
       "    <tr>\n",
       "      <th>16066</th>\n",
       "      <td>5250</td>\n",
       "      <td>5250</td>\n",
       "      <td>A01 Products of agriculture, hunting and relat...</td>\n",
       "      <td>D351 Electric power generation, transmission a...</td>\n",
       "      <td>124.0</td>\n",
       "      <td>0.001921</td>\n",
       "      <td>Domestically produced inputs</td>\n",
       "      <td>0.175136</td>\n",
       "      <td>A01 Products of agri...</td>\n",
       "      <td>D351 Electric power ...</td>\n",
       "    </tr>\n",
       "    <tr>\n",
       "      <th>16906</th>\n",
       "      <td>6090</td>\n",
       "      <td>6090</td>\n",
       "      <td>A01 Products of agriculture, hunting and relat...</td>\n",
       "      <td>G46 Wholesale Trade, Except Of Motor Vehicles ...</td>\n",
       "      <td>0.0</td>\n",
       "      <td>0.000000</td>\n",
       "      <td>Domestically produced inputs</td>\n",
       "      <td>0.000000</td>\n",
       "      <td>A01 Products of agri...</td>\n",
       "      <td>G46 Wholesale Trade,...</td>\n",
       "    </tr>\n",
       "    <tr>\n",
       "      <th>19846</th>\n",
       "      <td>9030</td>\n",
       "      <td>9030</td>\n",
       "      <td>A01 Products of agriculture, hunting and relat...</td>\n",
       "      <td>M75 Veterinary Activities</td>\n",
       "      <td>13.0</td>\n",
       "      <td>0.010682</td>\n",
       "      <td>Domestically produced inputs</td>\n",
       "      <td>1.012461</td>\n",
       "      <td>A01 Products of agri...</td>\n",
       "      <td>M75 Veterinary Activ...</td>\n",
       "    </tr>\n",
       "    <tr>\n",
       "      <th>21211</th>\n",
       "      <td>10395</td>\n",
       "      <td>10395</td>\n",
       "      <td>A01 Products of agriculture, hunting and relat...</td>\n",
       "      <td>R92 Gambling And Betting Activities</td>\n",
       "      <td>23.0</td>\n",
       "      <td>0.004844</td>\n",
       "      <td>Domestically produced inputs</td>\n",
       "      <td>0.447297</td>\n",
       "      <td>A01 Products of agri...</td>\n",
       "      <td>R92 Gambling And Bet...</td>\n",
       "    </tr>\n",
       "  </tbody>\n",
       "</table>\n",
       "</div>"
      ],
      "text/plain": [
       "       Unnamed: 0.1  Unnamed: 0  \\\n",
       "0                 0           0   \n",
       "104             104         104   \n",
       "520             520         520   \n",
       "728             728         728   \n",
       "832             832         832   \n",
       "936             936         936   \n",
       "1040           1040        1040   \n",
       "1144           1144        1144   \n",
       "1352           1352        1352   \n",
       "1456           1456        1456   \n",
       "1560           1560        1560   \n",
       "1768           1768        1768   \n",
       "1976           1976        1976   \n",
       "2808           2808        2808   \n",
       "2912           2912        2912   \n",
       "3120           3120        3120   \n",
       "5200           5200        5200   \n",
       "6032           6032        6032   \n",
       "8944           8944        8944   \n",
       "10296         10296       10296   \n",
       "10816             0           0   \n",
       "10921           105         105   \n",
       "11341           525         525   \n",
       "11551           735         735   \n",
       "11656           840         840   \n",
       "11761           945         945   \n",
       "11866          1050        1050   \n",
       "11971          1155        1155   \n",
       "12181          1365        1365   \n",
       "12286          1470        1470   \n",
       "12391          1575        1575   \n",
       "12601          1785        1785   \n",
       "12811          1995        1995   \n",
       "13651          2835        2835   \n",
       "13756          2940        2940   \n",
       "13966          3150        3150   \n",
       "16066          5250        5250   \n",
       "16906          6090        6090   \n",
       "19846          9030        9030   \n",
       "21211         10395       10395   \n",
       "\n",
       "                                      input requirements  \\\n",
       "0      A01 Products of agriculture, hunting and relat...   \n",
       "104    A01 Products of agriculture, hunting and relat...   \n",
       "520    A01 Products of agriculture, hunting and relat...   \n",
       "728    A01 Products of agriculture, hunting and relat...   \n",
       "832    A01 Products of agriculture, hunting and relat...   \n",
       "936    A01 Products of agriculture, hunting and relat...   \n",
       "1040   A01 Products of agriculture, hunting and relat...   \n",
       "1144   A01 Products of agriculture, hunting and relat...   \n",
       "1352   A01 Products of agriculture, hunting and relat...   \n",
       "1456   A01 Products of agriculture, hunting and relat...   \n",
       "1560   A01 Products of agriculture, hunting and relat...   \n",
       "1768   A01 Products of agriculture, hunting and relat...   \n",
       "1976   A01 Products of agriculture, hunting and relat...   \n",
       "2808   A01 Products of agriculture, hunting and relat...   \n",
       "2912   A01 Products of agriculture, hunting and relat...   \n",
       "3120   A01 Products of agriculture, hunting and relat...   \n",
       "5200   A01 Products of agriculture, hunting and relat...   \n",
       "6032   A01 Products of agriculture, hunting and relat...   \n",
       "8944   A01 Products of agriculture, hunting and relat...   \n",
       "10296  A01 Products of agriculture, hunting and relat...   \n",
       "10816  A01 Products of agriculture, hunting and relat...   \n",
       "10921  A01 Products of agriculture, hunting and relat...   \n",
       "11341  A01 Products of agriculture, hunting and relat...   \n",
       "11551  A01 Products of agriculture, hunting and relat...   \n",
       "11656  A01 Products of agriculture, hunting and relat...   \n",
       "11761  A01 Products of agriculture, hunting and relat...   \n",
       "11866  A01 Products of agriculture, hunting and relat...   \n",
       "11971  A01 Products of agriculture, hunting and relat...   \n",
       "12181  A01 Products of agriculture, hunting and relat...   \n",
       "12286  A01 Products of agriculture, hunting and relat...   \n",
       "12391  A01 Products of agriculture, hunting and relat...   \n",
       "12601  A01 Products of agriculture, hunting and relat...   \n",
       "12811  A01 Products of agriculture, hunting and relat...   \n",
       "13651  A01 Products of agriculture, hunting and relat...   \n",
       "13756  A01 Products of agriculture, hunting and relat...   \n",
       "13966  A01 Products of agriculture, hunting and relat...   \n",
       "16066  A01 Products of agriculture, hunting and relat...   \n",
       "16906  A01 Products of agriculture, hunting and relat...   \n",
       "19846  A01 Products of agriculture, hunting and relat...   \n",
       "21211  A01 Products of agriculture, hunting and relat...   \n",
       "\n",
       "                                                industry   value  proportion  \\\n",
       "0      A01 Crop And Animal Production, Hunting And Re...   484.0    0.706569   \n",
       "104                             A02 Forestry And Logging     3.0    0.214286   \n",
       "520                       B08 Other Mining And Quarrying     1.0    0.000907   \n",
       "728    C101 Processing and preserving of meat and pro...   154.0    0.395887   \n",
       "832    C102_3 Processing and preserving of fish, crus...    11.0    0.104762   \n",
       "936    C104 Manufacture of vegetable and animal oils ...    13.0    0.033679   \n",
       "1040                  C105 Manufacture of dairy products     3.0    0.015544   \n",
       "1144   C106 Manufacture of grain mill products, starc...   111.0    0.223340   \n",
       "1352             C108 Manufacture of other food products   233.0    0.098687   \n",
       "1456           C109 Manufacture of prepared animal feeds    22.0    0.045833   \n",
       "1560   C1101T1106 & C12 Manufacture of alcoholic beve...   145.0    0.313175   \n",
       "1768                         C13 Manufacture Of Textiles    24.0    0.019033   \n",
       "1976     C15 Manufacture Of Leather And Related Products     2.0    0.010256   \n",
       "2808   C20A Manufacture of industrial gases, inorgani...     6.0    0.003536   \n",
       "2912   C20B Manufacture of petrochemicals - 20.14/16/...    15.0    0.003997   \n",
       "3120   C21 Manufacture Of Basic Pharmaceutical Produc...     7.0    0.001628   \n",
       "5200   D351 Electric power generation, transmission a...     0.0    0.000000   \n",
       "6032   G46 Wholesale Trade, Except Of Motor Vehicles ...   112.0    0.011551   \n",
       "8944                           M75 Veterinary Activities     1.0    0.014925   \n",
       "10296                R92 Gambling And Betting Activities     0.0    0.000000   \n",
       "10816  A01 Crop And Animal Production, Hunting And Re...  3493.0    0.211211   \n",
       "10921                           A02 Forestry And Logging     0.0    0.000000   \n",
       "11341                     B08 Other Mining And Quarrying     7.0    0.002402   \n",
       "11551  C101 Processing and preserving of meat and pro...  5206.0    0.369403   \n",
       "11656  C102_3 Processing and preserving of fish, crus...  1282.0    0.186256   \n",
       "11761  C104 Manufacture of vegetable and animal oils ...     1.0    0.003731   \n",
       "11866                 C105 Manufacture of dairy products  3336.0    0.472990   \n",
       "11971  C106 Manufacture of grain mill products, starc...   827.0    0.192909   \n",
       "12181            C108 Manufacture of other food products     5.0    0.000492   \n",
       "12286          C109 Manufacture of prepared animal feeds   859.0    0.164088   \n",
       "12391  C1101T1106 & C12 Manufacture of alcoholic beve...   451.0    0.067505   \n",
       "12601                        C13 Manufacture Of Textiles     0.0    0.000000   \n",
       "12811    C15 Manufacture Of Leather And Related Products     9.0    0.023684   \n",
       "13651  C20A Manufacture of industrial gases, inorgani...    12.0    0.007581   \n",
       "13756  C20B Manufacture of petrochemicals - 20.14/16/...     1.0    0.000154   \n",
       "13966  C21 Manufacture Of Basic Pharmaceutical Produc...   152.0    0.016740   \n",
       "16066  D351 Electric power generation, transmission a...   124.0    0.001921   \n",
       "16906  G46 Wholesale Trade, Except Of Motor Vehicles ...     0.0    0.000000   \n",
       "19846                          M75 Veterinary Activities    13.0    0.010682   \n",
       "21211                R92 Gambling And Betting Activities    23.0    0.004844   \n",
       "\n",
       "                          component  proportion_total  \\\n",
       "0                   Imported inputs          2.810196   \n",
       "104                 Imported inputs          0.318810   \n",
       "520                 Imported inputs          0.024894   \n",
       "728                 Imported inputs          1.063389   \n",
       "832                 Imported inputs          0.157413   \n",
       "936                 Imported inputs          1.987768   \n",
       "1040                Imported inputs          0.041402   \n",
       "1144                Imported inputs          2.320234   \n",
       "1352                Imported inputs          1.860279   \n",
       "1456                Imported inputs          0.384952   \n",
       "1560                Imported inputs          2.029675   \n",
       "1768                Imported inputs          0.738916   \n",
       "1976                Imported inputs          0.347826   \n",
       "2808                Imported inputs          0.182927   \n",
       "2912                Imported inputs          0.146313   \n",
       "3120                Imported inputs          0.052321   \n",
       "5200                Imported inputs          0.000000   \n",
       "6032                Imported inputs          0.164141   \n",
       "8944                Imported inputs          0.077882   \n",
       "10296               Imported inputs          0.000000   \n",
       "10816  Domestically produced inputs         20.281020   \n",
       "10921  Domestically produced inputs          0.000000   \n",
       "11341  Domestically produced inputs          0.174259   \n",
       "11551  Domestically produced inputs         35.948073   \n",
       "11656  Domestically produced inputs         18.345736   \n",
       "11761  Domestically produced inputs          0.152905   \n",
       "11866  Domestically produced inputs         46.039194   \n",
       "11971  Domestically produced inputs         17.286789   \n",
       "12181  Domestically produced inputs          0.039920   \n",
       "12286  Domestically produced inputs         15.030621   \n",
       "12391  Domestically produced inputs          6.312990   \n",
       "12601  Domestically produced inputs          0.000000   \n",
       "12811  Domestically produced inputs          1.565217   \n",
       "13651  Domestically produced inputs          0.365854   \n",
       "13756  Domestically produced inputs          0.009754   \n",
       "13966  Domestically produced inputs          1.136109   \n",
       "16066  Domestically produced inputs          0.175136   \n",
       "16906  Domestically produced inputs          0.000000   \n",
       "19846  Domestically produced inputs          1.012461   \n",
       "21211  Domestically produced inputs          0.447297   \n",
       "\n",
       "            input_product_trun            industry_trun  \n",
       "0      A01 Products of agri...  A01 Crop And Animal ...  \n",
       "104    A01 Products of agri...  A02 Forestry And Log...  \n",
       "520    A01 Products of agri...  B08 Other Mining And...  \n",
       "728    A01 Products of agri...  C101 Processing and ...  \n",
       "832    A01 Products of agri...  C102_3 Processing an...  \n",
       "936    A01 Products of agri...  C104 Manufacture of ...  \n",
       "1040   A01 Products of agri...  C105 Manufacture of ...  \n",
       "1144   A01 Products of agri...  C106 Manufacture of ...  \n",
       "1352   A01 Products of agri...  C108 Manufacture of ...  \n",
       "1456   A01 Products of agri...  C109 Manufacture of ...  \n",
       "1560   A01 Products of agri...  C1101T1106 & C12 Man...  \n",
       "1768   A01 Products of agri...  C13 Manufacture Of T...  \n",
       "1976   A01 Products of agri...  C15 Manufacture Of L...  \n",
       "2808   A01 Products of agri...  C20A Manufacture of ...  \n",
       "2912   A01 Products of agri...  C20B Manufacture of ...  \n",
       "3120   A01 Products of agri...  C21 Manufacture Of B...  \n",
       "5200   A01 Products of agri...  D351 Electric power ...  \n",
       "6032   A01 Products of agri...  G46 Wholesale Trade,...  \n",
       "8944   A01 Products of agri...  M75 Veterinary Activ...  \n",
       "10296  A01 Products of agri...  R92 Gambling And Bet...  \n",
       "10816  A01 Products of agri...  A01 Crop And Animal ...  \n",
       "10921  A01 Products of agri...  A02 Forestry And Log...  \n",
       "11341  A01 Products of agri...  B08 Other Mining And...  \n",
       "11551  A01 Products of agri...  C101 Processing and ...  \n",
       "11656  A01 Products of agri...  C102_3 Processing an...  \n",
       "11761  A01 Products of agri...  C104 Manufacture of ...  \n",
       "11866  A01 Products of agri...  C105 Manufacture of ...  \n",
       "11971  A01 Products of agri...  C106 Manufacture of ...  \n",
       "12181  A01 Products of agri...  C108 Manufacture of ...  \n",
       "12286  A01 Products of agri...  C109 Manufacture of ...  \n",
       "12391  A01 Products of agri...  C1101T1106 & C12 Man...  \n",
       "12601  A01 Products of agri...  C13 Manufacture Of T...  \n",
       "12811  A01 Products of agri...  C15 Manufacture Of L...  \n",
       "13651  A01 Products of agri...  C20A Manufacture of ...  \n",
       "13756  A01 Products of agri...  C20B Manufacture of ...  \n",
       "13966  A01 Products of agri...  C21 Manufacture Of B...  \n",
       "16066  A01 Products of agri...  D351 Electric power ...  \n",
       "16906  A01 Products of agri...  G46 Wholesale Trade,...  \n",
       "19846  A01 Products of agri...  M75 Veterinary Activ...  \n",
       "21211  A01 Products of agri...  R92 Gambling And Bet...  "
      ]
     },
     "execution_count": 27,
     "metadata": {},
     "output_type": "execute_result"
    }
   ],
   "source": [
    "combined_subset = combined_subset[combined_subset['industry_trun'].isin(yarray)]\n",
    "combined_subset['proportion_total'] = combined_subset['proportion_total']*100\n",
    "combined_subset"
   ]
  },
  {
   "cell_type": "code",
   "execution_count": 30,
   "metadata": {},
   "outputs": [
    {
     "data": {
      "application/vnd.plotly.v1+json": {
       "config": {
        "plotlyServerURL": "https://plot.ly"
       },
       "data": [
        {
         "alignmentgroup": "True",
         "bingroup": "y",
         "histfunc": "sum",
         "hovertemplate": "Category=Imported inputs<br>sum of Percentage of total intermediate consumption=%{x}<br>industry=%{y}<extra></extra>",
         "legendgroup": "Imported inputs",
         "marker": {
          "color": "#636efa",
          "pattern": {
           "shape": ""
          }
         },
         "name": "Imported inputs",
         "offsetgroup": "Imported inputs",
         "orientation": "h",
         "showlegend": true,
         "type": "histogram",
         "x": [
          2.8101956685827,
          0.31880977683315,
          0.02489419965148,
          1.06338903466372,
          0.15741270749856,
          1.98776758409785,
          0.04140215291195,
          2.32023411371237,
          1.8602794411177601,
          0.38495188101487,
          2.02967525195968,
          0.73891625615763,
          0.34782608695652,
          0.18292682926829001,
          0.14631291455325,
          0.052320801255690004,
          0,
          0.16414104405428,
          0.07788161993769,
          0
         ],
         "xaxis": "x",
         "y": [
          "A01 Crop And Animal Production, Hunting And Related Service Activities",
          "A02 Forestry And Logging",
          "B08 Other Mining And Quarrying",
          "C101 Processing and preserving of meat and production of meat products",
          "C102_3 Processing and preserving of fish, crustaceans, molluscs, fruit and vegetables",
          "C104 Manufacture of vegetable and animal oils and fats",
          "C105 Manufacture of dairy products",
          "C106 Manufacture of grain mill products, starches and starch products",
          "C108 Manufacture of other food products",
          "C109 Manufacture of prepared animal feeds",
          "C1101T1106 & C12 Manufacture of alcoholic beverages  & Tobacco Products",
          "C13 Manufacture Of Textiles",
          "C15 Manufacture Of Leather And Related Products",
          "C20A Manufacture of industrial gases, inorganics and fertilisers (inorganic chemicals) - 20.11/13/15",
          "C20B Manufacture of petrochemicals - 20.14/16/17/60",
          "C21 Manufacture Of Basic Pharmaceutical Products And Pharmaceutical Preparations",
          "D351 Electric power generation, transmission and distribution",
          "G46 Wholesale Trade, Except Of Motor Vehicles And Motorcycles",
          "M75 Veterinary Activities",
          "R92 Gambling And Betting Activities"
         ],
         "yaxis": "y"
        },
        {
         "alignmentgroup": "True",
         "bingroup": "y",
         "histfunc": "sum",
         "hovertemplate": "Category=Domestically produced inputs<br>sum of Percentage of total intermediate consumption=%{x}<br>industry=%{y}<extra></extra>",
         "legendgroup": "Domestically produced inputs",
         "marker": {
          "color": "#EF553B",
          "pattern": {
           "shape": ""
          }
         },
         "name": "Domestically produced inputs",
         "offsetgroup": "Domestically produced inputs",
         "orientation": "h",
         "showlegend": true,
         "type": "histogram",
         "x": [
          20.28101956685827,
          0,
          0.17425939756036,
          35.94807347051512,
          18.3457355466514,
          0.15290519877675,
          46.03919403808998,
          17.28678929765886,
          0.03992015968063,
          15.03062117235345,
          6.31298992161254,
          0,
          1.56521739130434,
          0.36585365853658003,
          0.009754194303550527,
          1.13610882726661,
          0.17513629558486998,
          0,
          1.01246105919003,
          0.44729677168416004
         ],
         "xaxis": "x",
         "y": [
          "A01 Crop And Animal Production, Hunting And Related Service Activities",
          "A02 Forestry And Logging",
          "B08 Other Mining And Quarrying",
          "C101 Processing and preserving of meat and production of meat products",
          "C102_3 Processing and preserving of fish, crustaceans, molluscs, fruit and vegetables",
          "C104 Manufacture of vegetable and animal oils and fats",
          "C105 Manufacture of dairy products",
          "C106 Manufacture of grain mill products, starches and starch products",
          "C108 Manufacture of other food products",
          "C109 Manufacture of prepared animal feeds",
          "C1101T1106 & C12 Manufacture of alcoholic beverages  & Tobacco Products",
          "C13 Manufacture Of Textiles",
          "C15 Manufacture Of Leather And Related Products",
          "C20A Manufacture of industrial gases, inorganics and fertilisers (inorganic chemicals) - 20.11/13/15",
          "C20B Manufacture of petrochemicals - 20.14/16/17/60",
          "C21 Manufacture Of Basic Pharmaceutical Products And Pharmaceutical Preparations",
          "D351 Electric power generation, transmission and distribution",
          "G46 Wholesale Trade, Except Of Motor Vehicles And Motorcycles",
          "M75 Veterinary Activities",
          "R92 Gambling And Betting Activities"
         ],
         "yaxis": "y"
        }
       ],
       "layout": {
        "barmode": "relative",
        "height": 600,
        "legend": {
         "title": {
          "text": "Category"
         },
         "tracegroupgap": 0
        },
        "margin": {
         "l": 200,
         "t": 60
        },
        "template": {
         "data": {
          "bar": [
           {
            "error_x": {
             "color": "#2a3f5f"
            },
            "error_y": {
             "color": "#2a3f5f"
            },
            "marker": {
             "line": {
              "color": "#E5ECF6",
              "width": 0.5
             },
             "pattern": {
              "fillmode": "overlay",
              "size": 10,
              "solidity": 0.2
             }
            },
            "type": "bar"
           }
          ],
          "barpolar": [
           {
            "marker": {
             "line": {
              "color": "#E5ECF6",
              "width": 0.5
             },
             "pattern": {
              "fillmode": "overlay",
              "size": 10,
              "solidity": 0.2
             }
            },
            "type": "barpolar"
           }
          ],
          "carpet": [
           {
            "aaxis": {
             "endlinecolor": "#2a3f5f",
             "gridcolor": "white",
             "linecolor": "white",
             "minorgridcolor": "white",
             "startlinecolor": "#2a3f5f"
            },
            "baxis": {
             "endlinecolor": "#2a3f5f",
             "gridcolor": "white",
             "linecolor": "white",
             "minorgridcolor": "white",
             "startlinecolor": "#2a3f5f"
            },
            "type": "carpet"
           }
          ],
          "choropleth": [
           {
            "colorbar": {
             "outlinewidth": 0,
             "ticks": ""
            },
            "type": "choropleth"
           }
          ],
          "contour": [
           {
            "colorbar": {
             "outlinewidth": 0,
             "ticks": ""
            },
            "colorscale": [
             [
              0,
              "#0d0887"
             ],
             [
              0.1111111111111111,
              "#46039f"
             ],
             [
              0.2222222222222222,
              "#7201a8"
             ],
             [
              0.3333333333333333,
              "#9c179e"
             ],
             [
              0.4444444444444444,
              "#bd3786"
             ],
             [
              0.5555555555555556,
              "#d8576b"
             ],
             [
              0.6666666666666666,
              "#ed7953"
             ],
             [
              0.7777777777777778,
              "#fb9f3a"
             ],
             [
              0.8888888888888888,
              "#fdca26"
             ],
             [
              1,
              "#f0f921"
             ]
            ],
            "type": "contour"
           }
          ],
          "contourcarpet": [
           {
            "colorbar": {
             "outlinewidth": 0,
             "ticks": ""
            },
            "type": "contourcarpet"
           }
          ],
          "heatmap": [
           {
            "colorbar": {
             "outlinewidth": 0,
             "ticks": ""
            },
            "colorscale": [
             [
              0,
              "#0d0887"
             ],
             [
              0.1111111111111111,
              "#46039f"
             ],
             [
              0.2222222222222222,
              "#7201a8"
             ],
             [
              0.3333333333333333,
              "#9c179e"
             ],
             [
              0.4444444444444444,
              "#bd3786"
             ],
             [
              0.5555555555555556,
              "#d8576b"
             ],
             [
              0.6666666666666666,
              "#ed7953"
             ],
             [
              0.7777777777777778,
              "#fb9f3a"
             ],
             [
              0.8888888888888888,
              "#fdca26"
             ],
             [
              1,
              "#f0f921"
             ]
            ],
            "type": "heatmap"
           }
          ],
          "heatmapgl": [
           {
            "colorbar": {
             "outlinewidth": 0,
             "ticks": ""
            },
            "colorscale": [
             [
              0,
              "#0d0887"
             ],
             [
              0.1111111111111111,
              "#46039f"
             ],
             [
              0.2222222222222222,
              "#7201a8"
             ],
             [
              0.3333333333333333,
              "#9c179e"
             ],
             [
              0.4444444444444444,
              "#bd3786"
             ],
             [
              0.5555555555555556,
              "#d8576b"
             ],
             [
              0.6666666666666666,
              "#ed7953"
             ],
             [
              0.7777777777777778,
              "#fb9f3a"
             ],
             [
              0.8888888888888888,
              "#fdca26"
             ],
             [
              1,
              "#f0f921"
             ]
            ],
            "type": "heatmapgl"
           }
          ],
          "histogram": [
           {
            "marker": {
             "pattern": {
              "fillmode": "overlay",
              "size": 10,
              "solidity": 0.2
             }
            },
            "type": "histogram"
           }
          ],
          "histogram2d": [
           {
            "colorbar": {
             "outlinewidth": 0,
             "ticks": ""
            },
            "colorscale": [
             [
              0,
              "#0d0887"
             ],
             [
              0.1111111111111111,
              "#46039f"
             ],
             [
              0.2222222222222222,
              "#7201a8"
             ],
             [
              0.3333333333333333,
              "#9c179e"
             ],
             [
              0.4444444444444444,
              "#bd3786"
             ],
             [
              0.5555555555555556,
              "#d8576b"
             ],
             [
              0.6666666666666666,
              "#ed7953"
             ],
             [
              0.7777777777777778,
              "#fb9f3a"
             ],
             [
              0.8888888888888888,
              "#fdca26"
             ],
             [
              1,
              "#f0f921"
             ]
            ],
            "type": "histogram2d"
           }
          ],
          "histogram2dcontour": [
           {
            "colorbar": {
             "outlinewidth": 0,
             "ticks": ""
            },
            "colorscale": [
             [
              0,
              "#0d0887"
             ],
             [
              0.1111111111111111,
              "#46039f"
             ],
             [
              0.2222222222222222,
              "#7201a8"
             ],
             [
              0.3333333333333333,
              "#9c179e"
             ],
             [
              0.4444444444444444,
              "#bd3786"
             ],
             [
              0.5555555555555556,
              "#d8576b"
             ],
             [
              0.6666666666666666,
              "#ed7953"
             ],
             [
              0.7777777777777778,
              "#fb9f3a"
             ],
             [
              0.8888888888888888,
              "#fdca26"
             ],
             [
              1,
              "#f0f921"
             ]
            ],
            "type": "histogram2dcontour"
           }
          ],
          "mesh3d": [
           {
            "colorbar": {
             "outlinewidth": 0,
             "ticks": ""
            },
            "type": "mesh3d"
           }
          ],
          "parcoords": [
           {
            "line": {
             "colorbar": {
              "outlinewidth": 0,
              "ticks": ""
             }
            },
            "type": "parcoords"
           }
          ],
          "pie": [
           {
            "automargin": true,
            "type": "pie"
           }
          ],
          "scatter": [
           {
            "marker": {
             "colorbar": {
              "outlinewidth": 0,
              "ticks": ""
             }
            },
            "type": "scatter"
           }
          ],
          "scatter3d": [
           {
            "line": {
             "colorbar": {
              "outlinewidth": 0,
              "ticks": ""
             }
            },
            "marker": {
             "colorbar": {
              "outlinewidth": 0,
              "ticks": ""
             }
            },
            "type": "scatter3d"
           }
          ],
          "scattercarpet": [
           {
            "marker": {
             "colorbar": {
              "outlinewidth": 0,
              "ticks": ""
             }
            },
            "type": "scattercarpet"
           }
          ],
          "scattergeo": [
           {
            "marker": {
             "colorbar": {
              "outlinewidth": 0,
              "ticks": ""
             }
            },
            "type": "scattergeo"
           }
          ],
          "scattergl": [
           {
            "marker": {
             "colorbar": {
              "outlinewidth": 0,
              "ticks": ""
             }
            },
            "type": "scattergl"
           }
          ],
          "scattermapbox": [
           {
            "marker": {
             "colorbar": {
              "outlinewidth": 0,
              "ticks": ""
             }
            },
            "type": "scattermapbox"
           }
          ],
          "scatterpolar": [
           {
            "marker": {
             "colorbar": {
              "outlinewidth": 0,
              "ticks": ""
             }
            },
            "type": "scatterpolar"
           }
          ],
          "scatterpolargl": [
           {
            "marker": {
             "colorbar": {
              "outlinewidth": 0,
              "ticks": ""
             }
            },
            "type": "scatterpolargl"
           }
          ],
          "scatterternary": [
           {
            "marker": {
             "colorbar": {
              "outlinewidth": 0,
              "ticks": ""
             }
            },
            "type": "scatterternary"
           }
          ],
          "surface": [
           {
            "colorbar": {
             "outlinewidth": 0,
             "ticks": ""
            },
            "colorscale": [
             [
              0,
              "#0d0887"
             ],
             [
              0.1111111111111111,
              "#46039f"
             ],
             [
              0.2222222222222222,
              "#7201a8"
             ],
             [
              0.3333333333333333,
              "#9c179e"
             ],
             [
              0.4444444444444444,
              "#bd3786"
             ],
             [
              0.5555555555555556,
              "#d8576b"
             ],
             [
              0.6666666666666666,
              "#ed7953"
             ],
             [
              0.7777777777777778,
              "#fb9f3a"
             ],
             [
              0.8888888888888888,
              "#fdca26"
             ],
             [
              1,
              "#f0f921"
             ]
            ],
            "type": "surface"
           }
          ],
          "table": [
           {
            "cells": {
             "fill": {
              "color": "#EBF0F8"
             },
             "line": {
              "color": "white"
             }
            },
            "header": {
             "fill": {
              "color": "#C8D4E3"
             },
             "line": {
              "color": "white"
             }
            },
            "type": "table"
           }
          ]
         },
         "layout": {
          "annotationdefaults": {
           "arrowcolor": "#2a3f5f",
           "arrowhead": 0,
           "arrowwidth": 1
          },
          "autotypenumbers": "strict",
          "coloraxis": {
           "colorbar": {
            "outlinewidth": 0,
            "ticks": ""
           }
          },
          "colorscale": {
           "diverging": [
            [
             0,
             "#8e0152"
            ],
            [
             0.1,
             "#c51b7d"
            ],
            [
             0.2,
             "#de77ae"
            ],
            [
             0.3,
             "#f1b6da"
            ],
            [
             0.4,
             "#fde0ef"
            ],
            [
             0.5,
             "#f7f7f7"
            ],
            [
             0.6,
             "#e6f5d0"
            ],
            [
             0.7,
             "#b8e186"
            ],
            [
             0.8,
             "#7fbc41"
            ],
            [
             0.9,
             "#4d9221"
            ],
            [
             1,
             "#276419"
            ]
           ],
           "sequential": [
            [
             0,
             "#0d0887"
            ],
            [
             0.1111111111111111,
             "#46039f"
            ],
            [
             0.2222222222222222,
             "#7201a8"
            ],
            [
             0.3333333333333333,
             "#9c179e"
            ],
            [
             0.4444444444444444,
             "#bd3786"
            ],
            [
             0.5555555555555556,
             "#d8576b"
            ],
            [
             0.6666666666666666,
             "#ed7953"
            ],
            [
             0.7777777777777778,
             "#fb9f3a"
            ],
            [
             0.8888888888888888,
             "#fdca26"
            ],
            [
             1,
             "#f0f921"
            ]
           ],
           "sequentialminus": [
            [
             0,
             "#0d0887"
            ],
            [
             0.1111111111111111,
             "#46039f"
            ],
            [
             0.2222222222222222,
             "#7201a8"
            ],
            [
             0.3333333333333333,
             "#9c179e"
            ],
            [
             0.4444444444444444,
             "#bd3786"
            ],
            [
             0.5555555555555556,
             "#d8576b"
            ],
            [
             0.6666666666666666,
             "#ed7953"
            ],
            [
             0.7777777777777778,
             "#fb9f3a"
            ],
            [
             0.8888888888888888,
             "#fdca26"
            ],
            [
             1,
             "#f0f921"
            ]
           ]
          },
          "colorway": [
           "#636efa",
           "#EF553B",
           "#00cc96",
           "#ab63fa",
           "#FFA15A",
           "#19d3f3",
           "#FF6692",
           "#B6E880",
           "#FF97FF",
           "#FECB52"
          ],
          "font": {
           "color": "#2a3f5f"
          },
          "geo": {
           "bgcolor": "white",
           "lakecolor": "white",
           "landcolor": "#E5ECF6",
           "showlakes": true,
           "showland": true,
           "subunitcolor": "white"
          },
          "hoverlabel": {
           "align": "left"
          },
          "hovermode": "closest",
          "mapbox": {
           "style": "light"
          },
          "paper_bgcolor": "white",
          "plot_bgcolor": "#E5ECF6",
          "polar": {
           "angularaxis": {
            "gridcolor": "white",
            "linecolor": "white",
            "ticks": ""
           },
           "bgcolor": "#E5ECF6",
           "radialaxis": {
            "gridcolor": "white",
            "linecolor": "white",
            "ticks": ""
           }
          },
          "scene": {
           "xaxis": {
            "backgroundcolor": "#E5ECF6",
            "gridcolor": "white",
            "gridwidth": 2,
            "linecolor": "white",
            "showbackground": true,
            "ticks": "",
            "zerolinecolor": "white"
           },
           "yaxis": {
            "backgroundcolor": "#E5ECF6",
            "gridcolor": "white",
            "gridwidth": 2,
            "linecolor": "white",
            "showbackground": true,
            "ticks": "",
            "zerolinecolor": "white"
           },
           "zaxis": {
            "backgroundcolor": "#E5ECF6",
            "gridcolor": "white",
            "gridwidth": 2,
            "linecolor": "white",
            "showbackground": true,
            "ticks": "",
            "zerolinecolor": "white"
           }
          },
          "shapedefaults": {
           "line": {
            "color": "#2a3f5f"
           }
          },
          "ternary": {
           "aaxis": {
            "gridcolor": "white",
            "linecolor": "white",
            "ticks": ""
           },
           "baxis": {
            "gridcolor": "white",
            "linecolor": "white",
            "ticks": ""
           },
           "bgcolor": "#E5ECF6",
           "caxis": {
            "gridcolor": "white",
            "linecolor": "white",
            "ticks": ""
           }
          },
          "title": {
           "x": 0.05
          },
          "xaxis": {
           "automargin": true,
           "gridcolor": "white",
           "linecolor": "white",
           "ticks": "",
           "title": {
            "standoff": 15
           },
           "zerolinecolor": "white",
           "zerolinewidth": 2
          },
          "yaxis": {
           "automargin": true,
           "gridcolor": "white",
           "linecolor": "white",
           "ticks": "",
           "title": {
            "standoff": 15
           },
           "zerolinecolor": "white",
           "zerolinewidth": 2
          }
         }
        },
        "xaxis": {
         "anchor": "y",
         "domain": [
          0,
          1
         ],
         "title": {
          "text": "Percentage of total intermediate consumption"
         }
        },
        "yaxis": {
         "anchor": "x",
         "categoryarray": [
          "C20B Manufacture of ...",
          "G46 Wholesale Trade,...",
          "D351 Electric power ...",
          "B08 Other Mining And...",
          "A02 Forestry And Log...",
          "R92 Gambling And Bet...",
          "C20A Manufacture of ...",
          "C13 Manufacture Of T...",
          "M75 Veterinary Activ...",
          "C21 Manufacture Of B...",
          "C108 Manufacture of ...",
          "C15 Manufacture Of L...",
          "C104 Manufacture of ...",
          "C1101T1106 & C12 Man...",
          "C109 Manufacture of ...",
          "C102_3 Processing an...",
          "C106 Manufacture of ...",
          "A01 Crop And Animal ...",
          "C101 Processing and ...",
          "C105 Manufacture of ..."
         ],
         "categoryorder": "array",
         "domain": [
          0,
          1
         ],
         "title": {
          "text": "industry"
         }
        }
       }
      }
     },
     "metadata": {},
     "output_type": "display_data"
    }
   ],
   "source": [
    "fig = px.histogram(combined_subset, \n",
    "                        color='component',\n",
    "                        y='industry_trun', \n",
    "                        x='proportion_total',\n",
    "                            labels={\n",
    "                                'component':'Category',\n",
    "                                'industry_trun':'Industry',\n",
    "                                'proportion_total': 'Percentage of total intermediate consumption'\n",
    "                            },\n",
    "            height=600)\n",
    "\n",
    "fig.update_layout(xaxis_title='Percentage of total intermediate consumption',\n",
    "                  margin=dict(l=200))\n",
    "\n",
    "fig.update_yaxes(categoryorder='array', categoryarray=yarray[::-1])\n",
    "\n",
    "config = {'displayModeBar': True}\n",
    "\n",
    "fig"
   ]
  }
 ],
 "metadata": {
  "kernelspec": {
   "display_name": "Python 3.9.12 ('base')",
   "language": "python",
   "name": "python3"
  },
  "language_info": {
   "codemirror_mode": {
    "name": "ipython",
    "version": 3
   },
   "file_extension": ".py",
   "mimetype": "text/x-python",
   "name": "python",
   "nbconvert_exporter": "python",
   "pygments_lexer": "ipython3",
   "version": "3.9.12"
  },
  "orig_nbformat": 4,
  "vscode": {
   "interpreter": {
    "hash": "e64d64c086741ef4a01b1973e253f24b05e5f8201e043641bb65f7528e84d7ba"
   }
  }
 },
 "nbformat": 4,
 "nbformat_minor": 2
}
