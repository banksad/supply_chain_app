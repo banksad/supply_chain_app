{
 "cells": [
  {
   "cell_type": "code",
   "execution_count": 1,
   "metadata": {},
   "outputs": [
    {
     "name": "stderr",
     "output_type": "stream",
     "text": [
      "/Users/andrewbanks/opt/anaconda3/lib/python3.9/site-packages/scipy/__init__.py:146: UserWarning: A NumPy version >=1.16.5 and <1.23.0 is required for this version of SciPy (detected version 1.23.2\n",
      "  warnings.warn(f\"A NumPy version >={np_minversion} and <{np_maxversion}\"\n"
     ]
    }
   ],
   "source": [
    "\n",
    "import pandas as pd\n",
    "import matplotlib.pyplot as plt\n",
    "import numpy as np\n",
    "import plotly.express as px"
   ]
  },
  {
   "cell_type": "code",
   "execution_count": 87,
   "metadata": {},
   "outputs": [
    {
     "data": {
      "text/html": [
       "<div>\n",
       "<style scoped>\n",
       "    .dataframe tbody tr th:only-of-type {\n",
       "        vertical-align: middle;\n",
       "    }\n",
       "\n",
       "    .dataframe tbody tr th {\n",
       "        vertical-align: top;\n",
       "    }\n",
       "\n",
       "    .dataframe thead th {\n",
       "        text-align: right;\n",
       "    }\n",
       "</style>\n",
       "<table border=\"1\" class=\"dataframe\">\n",
       "  <thead>\n",
       "    <tr style=\"text-align: right;\">\n",
       "      <th></th>\n",
       "      <th>Unnamed: 0.1</th>\n",
       "      <th>Unnamed: 0</th>\n",
       "      <th>input product</th>\n",
       "      <th>output product</th>\n",
       "      <th>value</th>\n",
       "      <th>proportion</th>\n",
       "      <th>component</th>\n",
       "    </tr>\n",
       "  </thead>\n",
       "  <tbody>\n",
       "    <tr>\n",
       "      <th>0</th>\n",
       "      <td>0</td>\n",
       "      <td>0</td>\n",
       "      <td>Products of agriculture, hunting and related s...</td>\n",
       "      <td>Products of agriculture, hunting and related s...</td>\n",
       "      <td>443.069136</td>\n",
       "      <td>0.705798</td>\n",
       "      <td>Imported inputs</td>\n",
       "    </tr>\n",
       "    <tr>\n",
       "      <th>1</th>\n",
       "      <td>1</td>\n",
       "      <td>1</td>\n",
       "      <td>Products of forestry, logging and related serv...</td>\n",
       "      <td>Products of agriculture, hunting and related s...</td>\n",
       "      <td>0.915296</td>\n",
       "      <td>0.001458</td>\n",
       "      <td>Imported inputs</td>\n",
       "    </tr>\n",
       "    <tr>\n",
       "      <th>2</th>\n",
       "      <td>2</td>\n",
       "      <td>2</td>\n",
       "      <td>Fish and other fishing products; aquaculture p...</td>\n",
       "      <td>Products of agriculture, hunting and related s...</td>\n",
       "      <td>0.000000</td>\n",
       "      <td>0.000000</td>\n",
       "      <td>Imported inputs</td>\n",
       "    </tr>\n",
       "    <tr>\n",
       "      <th>3</th>\n",
       "      <td>3</td>\n",
       "      <td>3</td>\n",
       "      <td>Coal and lignite</td>\n",
       "      <td>Products of agriculture, hunting and related s...</td>\n",
       "      <td>0.000000</td>\n",
       "      <td>0.000000</td>\n",
       "      <td>Imported inputs</td>\n",
       "    </tr>\n",
       "    <tr>\n",
       "      <th>4</th>\n",
       "      <td>4</td>\n",
       "      <td>4</td>\n",
       "      <td>Extraction Of Crude Petroleum And Natural Gas ...</td>\n",
       "      <td>Products of agriculture, hunting and related s...</td>\n",
       "      <td>0.000000</td>\n",
       "      <td>0.000000</td>\n",
       "      <td>Imported inputs</td>\n",
       "    </tr>\n",
       "  </tbody>\n",
       "</table>\n",
       "</div>"
      ],
      "text/plain": [
       "   Unnamed: 0.1  Unnamed: 0  \\\n",
       "0             0           0   \n",
       "1             1           1   \n",
       "2             2           2   \n",
       "3             3           3   \n",
       "4             4           4   \n",
       "\n",
       "                                       input product  \\\n",
       "0  Products of agriculture, hunting and related s...   \n",
       "1  Products of forestry, logging and related serv...   \n",
       "2  Fish and other fishing products; aquaculture p...   \n",
       "3                                   Coal and lignite   \n",
       "4  Extraction Of Crude Petroleum And Natural Gas ...   \n",
       "\n",
       "                                      output product       value  proportion  \\\n",
       "0  Products of agriculture, hunting and related s...  443.069136    0.705798   \n",
       "1  Products of agriculture, hunting and related s...    0.915296    0.001458   \n",
       "2  Products of agriculture, hunting and related s...    0.000000    0.000000   \n",
       "3  Products of agriculture, hunting and related s...    0.000000    0.000000   \n",
       "4  Products of agriculture, hunting and related s...    0.000000    0.000000   \n",
       "\n",
       "         component  \n",
       "0  Imported inputs  \n",
       "1  Imported inputs  \n",
       "2  Imported inputs  \n",
       "3  Imported inputs  \n",
       "4  Imported inputs  "
      ]
     },
     "execution_count": 87,
     "metadata": {},
     "output_type": "execute_result"
    }
   ],
   "source": [
    "combined = pd.read_csv('combined.csv')\n",
    "combined.head()"
   ]
  },
  {
   "cell_type": "code",
   "execution_count": 88,
   "metadata": {},
   "outputs": [],
   "source": [
    "combined_product = 'Coal and lignite'"
   ]
  },
  {
   "cell_type": "code",
   "execution_count": 89,
   "metadata": {},
   "outputs": [
    {
     "name": "stderr",
     "output_type": "stream",
     "text": [
      "/var/folders/9l/qbx4p6vn46ldsb194p852z900000gn/T/ipykernel_87909/4132833578.py:3: SettingWithCopyWarning:\n",
      "\n",
      "\n",
      "A value is trying to be set on a copy of a slice from a DataFrame.\n",
      "Try using .loc[row_indexer,col_indexer] = value instead\n",
      "\n",
      "See the caveats in the documentation: https://pandas.pydata.org/pandas-docs/stable/user_guide/indexing.html#returning-a-view-versus-a-copy\n",
      "\n"
     ]
    }
   ],
   "source": [
    "combined_subset = combined[combined['output product']==combined_product]\n",
    "\n",
    "combined_subset['input_product_trun'] = combined_subset['input product'].apply(lambda x: x[:20]+'...') "
   ]
  },
  {
   "cell_type": "code",
   "execution_count": 97,
   "metadata": {},
   "outputs": [
    {
     "name": "stdout",
     "output_type": "stream",
     "text": [
      "['Machinery and equipm...', 'Financial services, ...', 'Rental and leasing s...', 'Rest of repair; Inst...', 'Wholesale trade serv...', 'Land transport servi...', 'Rail transport servi...', 'Coal and lignite...', 'Coke and refined pet...', 'Other chemical produ...']\n"
     ]
    }
   ],
   "source": [
    "yarray = combined_subset.groupby('input_product_trun')['value'].sum().sort_values(ascending=False).head(10).index.tolist()\n",
    "print(yarray)"
   ]
  },
  {
   "cell_type": "code",
   "execution_count": 91,
   "metadata": {},
   "outputs": [
    {
     "data": {
      "text/html": [
       "<div>\n",
       "<style scoped>\n",
       "    .dataframe tbody tr th:only-of-type {\n",
       "        vertical-align: middle;\n",
       "    }\n",
       "\n",
       "    .dataframe tbody tr th {\n",
       "        vertical-align: top;\n",
       "    }\n",
       "\n",
       "    .dataframe thead th {\n",
       "        text-align: right;\n",
       "    }\n",
       "</style>\n",
       "<table border=\"1\" class=\"dataframe\">\n",
       "  <thead>\n",
       "    <tr style=\"text-align: right;\">\n",
       "      <th></th>\n",
       "      <th>Unnamed: 0.1</th>\n",
       "      <th>Unnamed: 0</th>\n",
       "      <th>input product</th>\n",
       "      <th>output product</th>\n",
       "      <th>value</th>\n",
       "      <th>proportion</th>\n",
       "      <th>component</th>\n",
       "      <th>input_product_trun</th>\n",
       "    </tr>\n",
       "  </thead>\n",
       "  <tbody>\n",
       "    <tr>\n",
       "      <th>318</th>\n",
       "      <td>318</td>\n",
       "      <td>318</td>\n",
       "      <td>Coal and lignite</td>\n",
       "      <td>Coal and lignite</td>\n",
       "      <td>0.000000</td>\n",
       "      <td>0.000000</td>\n",
       "      <td>Imported inputs</td>\n",
       "      <td>Coal and lignite...</td>\n",
       "    </tr>\n",
       "    <tr>\n",
       "      <th>338</th>\n",
       "      <td>338</td>\n",
       "      <td>338</td>\n",
       "      <td>Coke and refined petroleum products</td>\n",
       "      <td>Coal and lignite</td>\n",
       "      <td>0.000000</td>\n",
       "      <td>0.000000</td>\n",
       "      <td>Imported inputs</td>\n",
       "      <td>Coke and refined pet...</td>\n",
       "    </tr>\n",
       "    <tr>\n",
       "      <th>341</th>\n",
       "      <td>341</td>\n",
       "      <td>341</td>\n",
       "      <td>Other chemical products</td>\n",
       "      <td>Coal and lignite</td>\n",
       "      <td>0.955465</td>\n",
       "      <td>0.099997</td>\n",
       "      <td>Imported inputs</td>\n",
       "      <td>Other chemical produ...</td>\n",
       "    </tr>\n",
       "    <tr>\n",
       "      <th>355</th>\n",
       "      <td>355</td>\n",
       "      <td>355</td>\n",
       "      <td>Machinery and equipment n.e.c.</td>\n",
       "      <td>Coal and lignite</td>\n",
       "      <td>1.910892</td>\n",
       "      <td>0.199989</td>\n",
       "      <td>Imported inputs</td>\n",
       "      <td>Machinery and equipm...</td>\n",
       "    </tr>\n",
       "    <tr>\n",
       "      <th>364</th>\n",
       "      <td>364</td>\n",
       "      <td>364</td>\n",
       "      <td>Rest of repair; Installation - 33.11-14/17/19/20</td>\n",
       "      <td>Coal and lignite</td>\n",
       "      <td>0.000000</td>\n",
       "      <td>0.000000</td>\n",
       "      <td>Imported inputs</td>\n",
       "      <td>Rest of repair; Inst...</td>\n",
       "    </tr>\n",
       "    <tr>\n",
       "      <th>373</th>\n",
       "      <td>373</td>\n",
       "      <td>373</td>\n",
       "      <td>Wholesale trade services, except of motor vehi...</td>\n",
       "      <td>Coal and lignite</td>\n",
       "      <td>0.000000</td>\n",
       "      <td>0.000000</td>\n",
       "      <td>Imported inputs</td>\n",
       "      <td>Wholesale trade serv...</td>\n",
       "    </tr>\n",
       "    <tr>\n",
       "      <th>375</th>\n",
       "      <td>375</td>\n",
       "      <td>375</td>\n",
       "      <td>Rail transport services</td>\n",
       "      <td>Coal and lignite</td>\n",
       "      <td>0.000000</td>\n",
       "      <td>0.000000</td>\n",
       "      <td>Imported inputs</td>\n",
       "      <td>Rail transport servi...</td>\n",
       "    </tr>\n",
       "    <tr>\n",
       "      <th>376</th>\n",
       "      <td>376</td>\n",
       "      <td>376</td>\n",
       "      <td>Land transport services and transport services...</td>\n",
       "      <td>Coal and lignite</td>\n",
       "      <td>1.911097</td>\n",
       "      <td>0.200011</td>\n",
       "      <td>Imported inputs</td>\n",
       "      <td>Land transport servi...</td>\n",
       "    </tr>\n",
       "    <tr>\n",
       "      <th>388</th>\n",
       "      <td>388</td>\n",
       "      <td>388</td>\n",
       "      <td>Financial services, except insurance and pensi...</td>\n",
       "      <td>Coal and lignite</td>\n",
       "      <td>0.000000</td>\n",
       "      <td>0.000000</td>\n",
       "      <td>Imported inputs</td>\n",
       "      <td>Financial services, ...</td>\n",
       "    </tr>\n",
       "    <tr>\n",
       "      <th>402</th>\n",
       "      <td>402</td>\n",
       "      <td>402</td>\n",
       "      <td>Rental and leasing services</td>\n",
       "      <td>Coal and lignite</td>\n",
       "      <td>0.000000</td>\n",
       "      <td>0.000000</td>\n",
       "      <td>Imported inputs</td>\n",
       "      <td>Rental and leasing s...</td>\n",
       "    </tr>\n",
       "    <tr>\n",
       "      <th>11343</th>\n",
       "      <td>318</td>\n",
       "      <td>318</td>\n",
       "      <td>Coal and lignite</td>\n",
       "      <td>Coal and lignite</td>\n",
       "      <td>12.421466</td>\n",
       "      <td>0.066327</td>\n",
       "      <td>Domestically produced inputs</td>\n",
       "      <td>Coal and lignite...</td>\n",
       "    </tr>\n",
       "    <tr>\n",
       "      <th>11363</th>\n",
       "      <td>338</td>\n",
       "      <td>338</td>\n",
       "      <td>Coke and refined petroleum products</td>\n",
       "      <td>Coal and lignite</td>\n",
       "      <td>6.688482</td>\n",
       "      <td>0.035714</td>\n",
       "      <td>Domestically produced inputs</td>\n",
       "      <td>Coke and refined pet...</td>\n",
       "    </tr>\n",
       "    <tr>\n",
       "      <th>11366</th>\n",
       "      <td>341</td>\n",
       "      <td>341</td>\n",
       "      <td>Other chemical products</td>\n",
       "      <td>Coal and lignite</td>\n",
       "      <td>5.732984</td>\n",
       "      <td>0.030612</td>\n",
       "      <td>Domestically produced inputs</td>\n",
       "      <td>Other chemical produ...</td>\n",
       "    </tr>\n",
       "    <tr>\n",
       "      <th>11380</th>\n",
       "      <td>355</td>\n",
       "      <td>355</td>\n",
       "      <td>Machinery and equipment n.e.c.</td>\n",
       "      <td>Coal and lignite</td>\n",
       "      <td>39.175393</td>\n",
       "      <td>0.209184</td>\n",
       "      <td>Domestically produced inputs</td>\n",
       "      <td>Machinery and equipm...</td>\n",
       "    </tr>\n",
       "    <tr>\n",
       "      <th>11389</th>\n",
       "      <td>364</td>\n",
       "      <td>364</td>\n",
       "      <td>Rest of repair; Installation - 33.11-14/17/19/20</td>\n",
       "      <td>Coal and lignite</td>\n",
       "      <td>15.287958</td>\n",
       "      <td>0.081633</td>\n",
       "      <td>Domestically produced inputs</td>\n",
       "      <td>Rest of repair; Inst...</td>\n",
       "    </tr>\n",
       "    <tr>\n",
       "      <th>11398</th>\n",
       "      <td>373</td>\n",
       "      <td>373</td>\n",
       "      <td>Wholesale trade services, except of motor vehi...</td>\n",
       "      <td>Coal and lignite</td>\n",
       "      <td>15.287958</td>\n",
       "      <td>0.081633</td>\n",
       "      <td>Domestically produced inputs</td>\n",
       "      <td>Wholesale trade serv...</td>\n",
       "    </tr>\n",
       "    <tr>\n",
       "      <th>11400</th>\n",
       "      <td>375</td>\n",
       "      <td>375</td>\n",
       "      <td>Rail transport services</td>\n",
       "      <td>Coal and lignite</td>\n",
       "      <td>13.376963</td>\n",
       "      <td>0.071429</td>\n",
       "      <td>Domestically produced inputs</td>\n",
       "      <td>Rail transport servi...</td>\n",
       "    </tr>\n",
       "    <tr>\n",
       "      <th>11401</th>\n",
       "      <td>376</td>\n",
       "      <td>376</td>\n",
       "      <td>Land transport services and transport services...</td>\n",
       "      <td>Coal and lignite</td>\n",
       "      <td>11.465969</td>\n",
       "      <td>0.061224</td>\n",
       "      <td>Domestically produced inputs</td>\n",
       "      <td>Land transport servi...</td>\n",
       "    </tr>\n",
       "    <tr>\n",
       "      <th>11413</th>\n",
       "      <td>388</td>\n",
       "      <td>388</td>\n",
       "      <td>Financial services, except insurance and pensi...</td>\n",
       "      <td>Coal and lignite</td>\n",
       "      <td>19.109948</td>\n",
       "      <td>0.102041</td>\n",
       "      <td>Domestically produced inputs</td>\n",
       "      <td>Financial services, ...</td>\n",
       "    </tr>\n",
       "    <tr>\n",
       "      <th>11427</th>\n",
       "      <td>402</td>\n",
       "      <td>402</td>\n",
       "      <td>Rental and leasing services</td>\n",
       "      <td>Coal and lignite</td>\n",
       "      <td>16.243455</td>\n",
       "      <td>0.086735</td>\n",
       "      <td>Domestically produced inputs</td>\n",
       "      <td>Rental and leasing s...</td>\n",
       "    </tr>\n",
       "  </tbody>\n",
       "</table>\n",
       "</div>"
      ],
      "text/plain": [
       "       Unnamed: 0.1  Unnamed: 0  \\\n",
       "318             318         318   \n",
       "338             338         338   \n",
       "341             341         341   \n",
       "355             355         355   \n",
       "364             364         364   \n",
       "373             373         373   \n",
       "375             375         375   \n",
       "376             376         376   \n",
       "388             388         388   \n",
       "402             402         402   \n",
       "11343           318         318   \n",
       "11363           338         338   \n",
       "11366           341         341   \n",
       "11380           355         355   \n",
       "11389           364         364   \n",
       "11398           373         373   \n",
       "11400           375         375   \n",
       "11401           376         376   \n",
       "11413           388         388   \n",
       "11427           402         402   \n",
       "\n",
       "                                           input product    output product  \\\n",
       "318                                     Coal and lignite  Coal and lignite   \n",
       "338                  Coke and refined petroleum products  Coal and lignite   \n",
       "341                              Other chemical products  Coal and lignite   \n",
       "355                       Machinery and equipment n.e.c.  Coal and lignite   \n",
       "364     Rest of repair; Installation - 33.11-14/17/19/20  Coal and lignite   \n",
       "373    Wholesale trade services, except of motor vehi...  Coal and lignite   \n",
       "375                              Rail transport services  Coal and lignite   \n",
       "376    Land transport services and transport services...  Coal and lignite   \n",
       "388    Financial services, except insurance and pensi...  Coal and lignite   \n",
       "402                          Rental and leasing services  Coal and lignite   \n",
       "11343                                   Coal and lignite  Coal and lignite   \n",
       "11363                Coke and refined petroleum products  Coal and lignite   \n",
       "11366                            Other chemical products  Coal and lignite   \n",
       "11380                     Machinery and equipment n.e.c.  Coal and lignite   \n",
       "11389   Rest of repair; Installation - 33.11-14/17/19/20  Coal and lignite   \n",
       "11398  Wholesale trade services, except of motor vehi...  Coal and lignite   \n",
       "11400                            Rail transport services  Coal and lignite   \n",
       "11401  Land transport services and transport services...  Coal and lignite   \n",
       "11413  Financial services, except insurance and pensi...  Coal and lignite   \n",
       "11427                        Rental and leasing services  Coal and lignite   \n",
       "\n",
       "           value  proportion                     component  \\\n",
       "318     0.000000    0.000000               Imported inputs   \n",
       "338     0.000000    0.000000               Imported inputs   \n",
       "341     0.955465    0.099997               Imported inputs   \n",
       "355     1.910892    0.199989               Imported inputs   \n",
       "364     0.000000    0.000000               Imported inputs   \n",
       "373     0.000000    0.000000               Imported inputs   \n",
       "375     0.000000    0.000000               Imported inputs   \n",
       "376     1.911097    0.200011               Imported inputs   \n",
       "388     0.000000    0.000000               Imported inputs   \n",
       "402     0.000000    0.000000               Imported inputs   \n",
       "11343  12.421466    0.066327  Domestically produced inputs   \n",
       "11363   6.688482    0.035714  Domestically produced inputs   \n",
       "11366   5.732984    0.030612  Domestically produced inputs   \n",
       "11380  39.175393    0.209184  Domestically produced inputs   \n",
       "11389  15.287958    0.081633  Domestically produced inputs   \n",
       "11398  15.287958    0.081633  Domestically produced inputs   \n",
       "11400  13.376963    0.071429  Domestically produced inputs   \n",
       "11401  11.465969    0.061224  Domestically produced inputs   \n",
       "11413  19.109948    0.102041  Domestically produced inputs   \n",
       "11427  16.243455    0.086735  Domestically produced inputs   \n",
       "\n",
       "            input_product_trun  \n",
       "318        Coal and lignite...  \n",
       "338    Coke and refined pet...  \n",
       "341    Other chemical produ...  \n",
       "355    Machinery and equipm...  \n",
       "364    Rest of repair; Inst...  \n",
       "373    Wholesale trade serv...  \n",
       "375    Rail transport servi...  \n",
       "376    Land transport servi...  \n",
       "388    Financial services, ...  \n",
       "402    Rental and leasing s...  \n",
       "11343      Coal and lignite...  \n",
       "11363  Coke and refined pet...  \n",
       "11366  Other chemical produ...  \n",
       "11380  Machinery and equipm...  \n",
       "11389  Rest of repair; Inst...  \n",
       "11398  Wholesale trade serv...  \n",
       "11400  Rail transport servi...  \n",
       "11401  Land transport servi...  \n",
       "11413  Financial services, ...  \n",
       "11427  Rental and leasing s...  "
      ]
     },
     "execution_count": 91,
     "metadata": {},
     "output_type": "execute_result"
    }
   ],
   "source": [
    "combined_subset = combined_subset[combined_subset['input product'].isin(yarray)]\n",
    "\n",
    "combined_subset"
   ]
  },
  {
   "cell_type": "code",
   "execution_count": 104,
   "metadata": {},
   "outputs": [
    {
     "data": {
      "application/vnd.plotly.v1+json": {
       "config": {
        "plotlyServerURL": "https://plot.ly"
       },
       "data": [
        {
         "alignmentgroup": "True",
         "customdata": [
          [
           "Imported inputs"
          ],
          [
           "Imported inputs"
          ],
          [
           "Imported inputs"
          ],
          [
           "Imported inputs"
          ],
          [
           "Imported inputs"
          ],
          [
           "Imported inputs"
          ],
          [
           "Imported inputs"
          ],
          [
           "Imported inputs"
          ],
          [
           "Imported inputs"
          ],
          [
           "Imported inputs"
          ]
         ],
         "hovertemplate": "<b>%{hovertext}</b><br><br>Value (£m)=%{x:.1f}<extra></extra>",
         "hovertext": [
          "Coal and lignite",
          "Coke and refined petroleum products",
          "Other chemical products",
          "Machinery and equipment n.e.c.",
          "Rest of repair; Installation - 33.11-14/17/19/20",
          "Wholesale trade services, except of motor vehicles and motorcycles",
          "Rail transport services",
          "Land transport services and transport services via pipelines, excluding rail transport",
          "Financial services, except insurance and pension funding",
          "Rental and leasing services"
         ],
         "legendgroup": "Imported inputs",
         "marker": {
          "color": "#636efa",
          "pattern": {
           "shape": ""
          }
         },
         "name": "Imported inputs",
         "offsetgroup": "Imported inputs",
         "orientation": "h",
         "showlegend": true,
         "textposition": "auto",
         "type": "bar",
         "x": [
          0,
          0,
          0.9554645622486796,
          1.910891774717787,
          0,
          0,
          0,
          1.911097247534817,
          0,
          0
         ],
         "xaxis": "x",
         "y": [
          "Coal and lignite...",
          "Coke and refined pet...",
          "Other chemical produ...",
          "Machinery and equipm...",
          "Rest of repair; Inst...",
          "Wholesale trade serv...",
          "Rail transport servi...",
          "Land transport servi...",
          "Financial services, ...",
          "Rental and leasing s..."
         ],
         "yaxis": "y"
        },
        {
         "alignmentgroup": "True",
         "customdata": [
          [
           "Domestically produced inputs"
          ],
          [
           "Domestically produced inputs"
          ],
          [
           "Domestically produced inputs"
          ],
          [
           "Domestically produced inputs"
          ],
          [
           "Domestically produced inputs"
          ],
          [
           "Domestically produced inputs"
          ],
          [
           "Domestically produced inputs"
          ],
          [
           "Domestically produced inputs"
          ],
          [
           "Domestically produced inputs"
          ],
          [
           "Domestically produced inputs"
          ]
         ],
         "hovertemplate": "<b>%{hovertext}</b><br><br>Value (£m)=%{x:.1f}<extra></extra>",
         "hovertext": [
          "Coal and lignite",
          "Coke and refined petroleum products",
          "Other chemical products",
          "Machinery and equipment n.e.c.",
          "Rest of repair; Installation - 33.11-14/17/19/20",
          "Wholesale trade services, except of motor vehicles and motorcycles",
          "Rail transport services",
          "Land transport services and transport services via pipelines, excluding rail transport",
          "Financial services, except insurance and pension funding",
          "Rental and leasing services"
         ],
         "legendgroup": "Domestically produced inputs",
         "marker": {
          "color": "#EF553B",
          "pattern": {
           "shape": ""
          }
         },
         "name": "Domestically produced inputs",
         "offsetgroup": "Domestically produced inputs",
         "orientation": "h",
         "showlegend": true,
         "textposition": "auto",
         "type": "bar",
         "x": [
          12.42146596858639,
          6.688481675392671,
          5.732984293193718,
          39.17539267015707,
          15.28795811518325,
          15.28795811518325,
          13.37696335078534,
          11.46596858638744,
          19.10994764397906,
          16.2434554973822
         ],
         "xaxis": "x",
         "y": [
          "Coal and lignite...",
          "Coke and refined pet...",
          "Other chemical produ...",
          "Machinery and equipm...",
          "Rest of repair; Inst...",
          "Wholesale trade serv...",
          "Rail transport servi...",
          "Land transport servi...",
          "Financial services, ...",
          "Rental and leasing s..."
         ],
         "yaxis": "y"
        }
       ],
       "layout": {
        "barmode": "stack",
        "height": 600,
        "legend": {
         "title": {
          "text": "Category"
         },
         "tracegroupgap": 0
        },
        "margin": {
         "t": 60
        },
        "template": {
         "data": {
          "bar": [
           {
            "error_x": {
             "color": "#2a3f5f"
            },
            "error_y": {
             "color": "#2a3f5f"
            },
            "marker": {
             "line": {
              "color": "#E5ECF6",
              "width": 0.5
             },
             "pattern": {
              "fillmode": "overlay",
              "size": 10,
              "solidity": 0.2
             }
            },
            "type": "bar"
           }
          ],
          "barpolar": [
           {
            "marker": {
             "line": {
              "color": "#E5ECF6",
              "width": 0.5
             },
             "pattern": {
              "fillmode": "overlay",
              "size": 10,
              "solidity": 0.2
             }
            },
            "type": "barpolar"
           }
          ],
          "carpet": [
           {
            "aaxis": {
             "endlinecolor": "#2a3f5f",
             "gridcolor": "white",
             "linecolor": "white",
             "minorgridcolor": "white",
             "startlinecolor": "#2a3f5f"
            },
            "baxis": {
             "endlinecolor": "#2a3f5f",
             "gridcolor": "white",
             "linecolor": "white",
             "minorgridcolor": "white",
             "startlinecolor": "#2a3f5f"
            },
            "type": "carpet"
           }
          ],
          "choropleth": [
           {
            "colorbar": {
             "outlinewidth": 0,
             "ticks": ""
            },
            "type": "choropleth"
           }
          ],
          "contour": [
           {
            "colorbar": {
             "outlinewidth": 0,
             "ticks": ""
            },
            "colorscale": [
             [
              0,
              "#0d0887"
             ],
             [
              0.1111111111111111,
              "#46039f"
             ],
             [
              0.2222222222222222,
              "#7201a8"
             ],
             [
              0.3333333333333333,
              "#9c179e"
             ],
             [
              0.4444444444444444,
              "#bd3786"
             ],
             [
              0.5555555555555556,
              "#d8576b"
             ],
             [
              0.6666666666666666,
              "#ed7953"
             ],
             [
              0.7777777777777778,
              "#fb9f3a"
             ],
             [
              0.8888888888888888,
              "#fdca26"
             ],
             [
              1,
              "#f0f921"
             ]
            ],
            "type": "contour"
           }
          ],
          "contourcarpet": [
           {
            "colorbar": {
             "outlinewidth": 0,
             "ticks": ""
            },
            "type": "contourcarpet"
           }
          ],
          "heatmap": [
           {
            "colorbar": {
             "outlinewidth": 0,
             "ticks": ""
            },
            "colorscale": [
             [
              0,
              "#0d0887"
             ],
             [
              0.1111111111111111,
              "#46039f"
             ],
             [
              0.2222222222222222,
              "#7201a8"
             ],
             [
              0.3333333333333333,
              "#9c179e"
             ],
             [
              0.4444444444444444,
              "#bd3786"
             ],
             [
              0.5555555555555556,
              "#d8576b"
             ],
             [
              0.6666666666666666,
              "#ed7953"
             ],
             [
              0.7777777777777778,
              "#fb9f3a"
             ],
             [
              0.8888888888888888,
              "#fdca26"
             ],
             [
              1,
              "#f0f921"
             ]
            ],
            "type": "heatmap"
           }
          ],
          "heatmapgl": [
           {
            "colorbar": {
             "outlinewidth": 0,
             "ticks": ""
            },
            "colorscale": [
             [
              0,
              "#0d0887"
             ],
             [
              0.1111111111111111,
              "#46039f"
             ],
             [
              0.2222222222222222,
              "#7201a8"
             ],
             [
              0.3333333333333333,
              "#9c179e"
             ],
             [
              0.4444444444444444,
              "#bd3786"
             ],
             [
              0.5555555555555556,
              "#d8576b"
             ],
             [
              0.6666666666666666,
              "#ed7953"
             ],
             [
              0.7777777777777778,
              "#fb9f3a"
             ],
             [
              0.8888888888888888,
              "#fdca26"
             ],
             [
              1,
              "#f0f921"
             ]
            ],
            "type": "heatmapgl"
           }
          ],
          "histogram": [
           {
            "marker": {
             "pattern": {
              "fillmode": "overlay",
              "size": 10,
              "solidity": 0.2
             }
            },
            "type": "histogram"
           }
          ],
          "histogram2d": [
           {
            "colorbar": {
             "outlinewidth": 0,
             "ticks": ""
            },
            "colorscale": [
             [
              0,
              "#0d0887"
             ],
             [
              0.1111111111111111,
              "#46039f"
             ],
             [
              0.2222222222222222,
              "#7201a8"
             ],
             [
              0.3333333333333333,
              "#9c179e"
             ],
             [
              0.4444444444444444,
              "#bd3786"
             ],
             [
              0.5555555555555556,
              "#d8576b"
             ],
             [
              0.6666666666666666,
              "#ed7953"
             ],
             [
              0.7777777777777778,
              "#fb9f3a"
             ],
             [
              0.8888888888888888,
              "#fdca26"
             ],
             [
              1,
              "#f0f921"
             ]
            ],
            "type": "histogram2d"
           }
          ],
          "histogram2dcontour": [
           {
            "colorbar": {
             "outlinewidth": 0,
             "ticks": ""
            },
            "colorscale": [
             [
              0,
              "#0d0887"
             ],
             [
              0.1111111111111111,
              "#46039f"
             ],
             [
              0.2222222222222222,
              "#7201a8"
             ],
             [
              0.3333333333333333,
              "#9c179e"
             ],
             [
              0.4444444444444444,
              "#bd3786"
             ],
             [
              0.5555555555555556,
              "#d8576b"
             ],
             [
              0.6666666666666666,
              "#ed7953"
             ],
             [
              0.7777777777777778,
              "#fb9f3a"
             ],
             [
              0.8888888888888888,
              "#fdca26"
             ],
             [
              1,
              "#f0f921"
             ]
            ],
            "type": "histogram2dcontour"
           }
          ],
          "mesh3d": [
           {
            "colorbar": {
             "outlinewidth": 0,
             "ticks": ""
            },
            "type": "mesh3d"
           }
          ],
          "parcoords": [
           {
            "line": {
             "colorbar": {
              "outlinewidth": 0,
              "ticks": ""
             }
            },
            "type": "parcoords"
           }
          ],
          "pie": [
           {
            "automargin": true,
            "type": "pie"
           }
          ],
          "scatter": [
           {
            "marker": {
             "colorbar": {
              "outlinewidth": 0,
              "ticks": ""
             }
            },
            "type": "scatter"
           }
          ],
          "scatter3d": [
           {
            "line": {
             "colorbar": {
              "outlinewidth": 0,
              "ticks": ""
             }
            },
            "marker": {
             "colorbar": {
              "outlinewidth": 0,
              "ticks": ""
             }
            },
            "type": "scatter3d"
           }
          ],
          "scattercarpet": [
           {
            "marker": {
             "colorbar": {
              "outlinewidth": 0,
              "ticks": ""
             }
            },
            "type": "scattercarpet"
           }
          ],
          "scattergeo": [
           {
            "marker": {
             "colorbar": {
              "outlinewidth": 0,
              "ticks": ""
             }
            },
            "type": "scattergeo"
           }
          ],
          "scattergl": [
           {
            "marker": {
             "colorbar": {
              "outlinewidth": 0,
              "ticks": ""
             }
            },
            "type": "scattergl"
           }
          ],
          "scattermapbox": [
           {
            "marker": {
             "colorbar": {
              "outlinewidth": 0,
              "ticks": ""
             }
            },
            "type": "scattermapbox"
           }
          ],
          "scatterpolar": [
           {
            "marker": {
             "colorbar": {
              "outlinewidth": 0,
              "ticks": ""
             }
            },
            "type": "scatterpolar"
           }
          ],
          "scatterpolargl": [
           {
            "marker": {
             "colorbar": {
              "outlinewidth": 0,
              "ticks": ""
             }
            },
            "type": "scatterpolargl"
           }
          ],
          "scatterternary": [
           {
            "marker": {
             "colorbar": {
              "outlinewidth": 0,
              "ticks": ""
             }
            },
            "type": "scatterternary"
           }
          ],
          "surface": [
           {
            "colorbar": {
             "outlinewidth": 0,
             "ticks": ""
            },
            "colorscale": [
             [
              0,
              "#0d0887"
             ],
             [
              0.1111111111111111,
              "#46039f"
             ],
             [
              0.2222222222222222,
              "#7201a8"
             ],
             [
              0.3333333333333333,
              "#9c179e"
             ],
             [
              0.4444444444444444,
              "#bd3786"
             ],
             [
              0.5555555555555556,
              "#d8576b"
             ],
             [
              0.6666666666666666,
              "#ed7953"
             ],
             [
              0.7777777777777778,
              "#fb9f3a"
             ],
             [
              0.8888888888888888,
              "#fdca26"
             ],
             [
              1,
              "#f0f921"
             ]
            ],
            "type": "surface"
           }
          ],
          "table": [
           {
            "cells": {
             "fill": {
              "color": "#EBF0F8"
             },
             "line": {
              "color": "white"
             }
            },
            "header": {
             "fill": {
              "color": "#C8D4E3"
             },
             "line": {
              "color": "white"
             }
            },
            "type": "table"
           }
          ]
         },
         "layout": {
          "annotationdefaults": {
           "arrowcolor": "#2a3f5f",
           "arrowhead": 0,
           "arrowwidth": 1
          },
          "autotypenumbers": "strict",
          "coloraxis": {
           "colorbar": {
            "outlinewidth": 0,
            "ticks": ""
           }
          },
          "colorscale": {
           "diverging": [
            [
             0,
             "#8e0152"
            ],
            [
             0.1,
             "#c51b7d"
            ],
            [
             0.2,
             "#de77ae"
            ],
            [
             0.3,
             "#f1b6da"
            ],
            [
             0.4,
             "#fde0ef"
            ],
            [
             0.5,
             "#f7f7f7"
            ],
            [
             0.6,
             "#e6f5d0"
            ],
            [
             0.7,
             "#b8e186"
            ],
            [
             0.8,
             "#7fbc41"
            ],
            [
             0.9,
             "#4d9221"
            ],
            [
             1,
             "#276419"
            ]
           ],
           "sequential": [
            [
             0,
             "#0d0887"
            ],
            [
             0.1111111111111111,
             "#46039f"
            ],
            [
             0.2222222222222222,
             "#7201a8"
            ],
            [
             0.3333333333333333,
             "#9c179e"
            ],
            [
             0.4444444444444444,
             "#bd3786"
            ],
            [
             0.5555555555555556,
             "#d8576b"
            ],
            [
             0.6666666666666666,
             "#ed7953"
            ],
            [
             0.7777777777777778,
             "#fb9f3a"
            ],
            [
             0.8888888888888888,
             "#fdca26"
            ],
            [
             1,
             "#f0f921"
            ]
           ],
           "sequentialminus": [
            [
             0,
             "#0d0887"
            ],
            [
             0.1111111111111111,
             "#46039f"
            ],
            [
             0.2222222222222222,
             "#7201a8"
            ],
            [
             0.3333333333333333,
             "#9c179e"
            ],
            [
             0.4444444444444444,
             "#bd3786"
            ],
            [
             0.5555555555555556,
             "#d8576b"
            ],
            [
             0.6666666666666666,
             "#ed7953"
            ],
            [
             0.7777777777777778,
             "#fb9f3a"
            ],
            [
             0.8888888888888888,
             "#fdca26"
            ],
            [
             1,
             "#f0f921"
            ]
           ]
          },
          "colorway": [
           "#636efa",
           "#EF553B",
           "#00cc96",
           "#ab63fa",
           "#FFA15A",
           "#19d3f3",
           "#FF6692",
           "#B6E880",
           "#FF97FF",
           "#FECB52"
          ],
          "font": {
           "color": "#2a3f5f"
          },
          "geo": {
           "bgcolor": "white",
           "lakecolor": "white",
           "landcolor": "#E5ECF6",
           "showlakes": true,
           "showland": true,
           "subunitcolor": "white"
          },
          "hoverlabel": {
           "align": "left"
          },
          "hovermode": "closest",
          "mapbox": {
           "style": "light"
          },
          "paper_bgcolor": "white",
          "plot_bgcolor": "#E5ECF6",
          "polar": {
           "angularaxis": {
            "gridcolor": "white",
            "linecolor": "white",
            "ticks": ""
           },
           "bgcolor": "#E5ECF6",
           "radialaxis": {
            "gridcolor": "white",
            "linecolor": "white",
            "ticks": ""
           }
          },
          "scene": {
           "xaxis": {
            "backgroundcolor": "#E5ECF6",
            "gridcolor": "white",
            "gridwidth": 2,
            "linecolor": "white",
            "showbackground": true,
            "ticks": "",
            "zerolinecolor": "white"
           },
           "yaxis": {
            "backgroundcolor": "#E5ECF6",
            "gridcolor": "white",
            "gridwidth": 2,
            "linecolor": "white",
            "showbackground": true,
            "ticks": "",
            "zerolinecolor": "white"
           },
           "zaxis": {
            "backgroundcolor": "#E5ECF6",
            "gridcolor": "white",
            "gridwidth": 2,
            "linecolor": "white",
            "showbackground": true,
            "ticks": "",
            "zerolinecolor": "white"
           }
          },
          "shapedefaults": {
           "line": {
            "color": "#2a3f5f"
           }
          },
          "ternary": {
           "aaxis": {
            "gridcolor": "white",
            "linecolor": "white",
            "ticks": ""
           },
           "baxis": {
            "gridcolor": "white",
            "linecolor": "white",
            "ticks": ""
           },
           "bgcolor": "#E5ECF6",
           "caxis": {
            "gridcolor": "white",
            "linecolor": "white",
            "ticks": ""
           }
          },
          "title": {
           "x": 0.05
          },
          "xaxis": {
           "automargin": true,
           "gridcolor": "white",
           "linecolor": "white",
           "ticks": "",
           "title": {
            "standoff": 15
           },
           "zerolinecolor": "white",
           "zerolinewidth": 2
          },
          "yaxis": {
           "automargin": true,
           "gridcolor": "white",
           "linecolor": "white",
           "ticks": "",
           "title": {
            "standoff": 15
           },
           "zerolinecolor": "white",
           "zerolinewidth": 2
          }
         }
        },
        "xaxis": {
         "anchor": "y",
         "domain": [
          0,
          1
         ],
         "title": {
          "text": "Value (£m)"
         }
        },
        "yaxis": {
         "anchor": "x",
         "categoryarray": [
          "Other chemical produ...",
          "Coke and refined pet...",
          "Coal and lignite...",
          "Rail transport servi...",
          "Land transport servi...",
          "Wholesale trade serv...",
          "Rest of repair; Inst...",
          "Rental and leasing s...",
          "Financial services, ...",
          "Machinery and equipm..."
         ],
         "categoryorder": "array",
         "domain": [
          0,
          1
         ],
         "title": {
          "text": "Product"
         }
        }
       }
      }
     },
     "metadata": {},
     "output_type": "display_data"
    }
   ],
   "source": [
    "fig = px.bar(combined_subset, color='component', y='input_product_trun', x='value',\n",
    "                    labels={\n",
    "                        'component':'Category',\n",
    "                        'input_product_trun': 'Product',\n",
    "                        'value': 'Value (£m)'\n",
    "                    },\n",
    "            height=600,\n",
    "            hover_name='input product',\n",
    "            hover_data={'value':':.1f',\n",
    "                        'component':False,\n",
    "                        'input_product_trun':False\n",
    "                        }\n",
    "            )\n",
    "fig.update_layout(barmode='stack')\n",
    "\n",
    "fig.update_yaxes(categoryorder='array', categoryarray=yarray[::-1])\n",
    "\n",
    "config = {'displayModeBar': True}\n",
    "\n",
    "fig"
   ]
  },
  {
   "cell_type": "code",
   "execution_count": 103,
   "metadata": {},
   "outputs": [
    {
     "data": {
      "application/vnd.plotly.v1+json": {
       "config": {
        "plotlyServerURL": "https://plot.ly"
       },
       "data": [
        {
         "alignmentgroup": "True",
         "bingroup": "y",
         "histfunc": "sum",
         "hovertemplate": "sum of value (normalized as percent)=%{x}<extra></extra>",
         "legendgroup": "Imported inputs",
         "marker": {
          "color": "#636efa",
          "pattern": {
           "shape": ""
          }
         },
         "name": "Imported inputs",
         "offsetgroup": "Imported inputs",
         "orientation": "h",
         "showlegend": true,
         "type": "histogram",
         "x": [
          0,
          0,
          0.9554645622486796,
          1.910891774717787,
          0,
          0,
          0,
          1.911097247534817,
          0,
          0
         ],
         "xaxis": "x",
         "y": [
          "Coal and lignite...",
          "Coke and refined pet...",
          "Other chemical produ...",
          "Machinery and equipm...",
          "Rest of repair; Inst...",
          "Wholesale trade serv...",
          "Rail transport servi...",
          "Land transport servi...",
          "Financial services, ...",
          "Rental and leasing s..."
         ],
         "yaxis": "y"
        },
        {
         "alignmentgroup": "True",
         "bingroup": "y",
         "histfunc": "sum",
         "hovertemplate": "sum of value (normalized as percent)=%{x}<extra></extra>",
         "legendgroup": "Domestically produced inputs",
         "marker": {
          "color": "#EF553B",
          "pattern": {
           "shape": ""
          }
         },
         "name": "Domestically produced inputs",
         "offsetgroup": "Domestically produced inputs",
         "orientation": "h",
         "showlegend": true,
         "type": "histogram",
         "x": [
          12.42146596858639,
          6.688481675392671,
          5.732984293193718,
          39.17539267015707,
          15.28795811518325,
          15.28795811518325,
          13.37696335078534,
          11.46596858638744,
          19.10994764397906,
          16.2434554973822
         ],
         "xaxis": "x",
         "y": [
          "Coal and lignite...",
          "Coke and refined pet...",
          "Other chemical produ...",
          "Machinery and equipm...",
          "Rest of repair; Inst...",
          "Wholesale trade serv...",
          "Rail transport servi...",
          "Land transport servi...",
          "Financial services, ...",
          "Rental and leasing s..."
         ],
         "yaxis": "y"
        }
       ],
       "layout": {
        "barmode": "relative",
        "barnorm": "percent",
        "height": 600,
        "legend": {
         "title": {
          "text": "Category"
         },
         "tracegroupgap": 0
        },
        "margin": {
         "t": 60
        },
        "template": {
         "data": {
          "bar": [
           {
            "error_x": {
             "color": "#2a3f5f"
            },
            "error_y": {
             "color": "#2a3f5f"
            },
            "marker": {
             "line": {
              "color": "#E5ECF6",
              "width": 0.5
             },
             "pattern": {
              "fillmode": "overlay",
              "size": 10,
              "solidity": 0.2
             }
            },
            "type": "bar"
           }
          ],
          "barpolar": [
           {
            "marker": {
             "line": {
              "color": "#E5ECF6",
              "width": 0.5
             },
             "pattern": {
              "fillmode": "overlay",
              "size": 10,
              "solidity": 0.2
             }
            },
            "type": "barpolar"
           }
          ],
          "carpet": [
           {
            "aaxis": {
             "endlinecolor": "#2a3f5f",
             "gridcolor": "white",
             "linecolor": "white",
             "minorgridcolor": "white",
             "startlinecolor": "#2a3f5f"
            },
            "baxis": {
             "endlinecolor": "#2a3f5f",
             "gridcolor": "white",
             "linecolor": "white",
             "minorgridcolor": "white",
             "startlinecolor": "#2a3f5f"
            },
            "type": "carpet"
           }
          ],
          "choropleth": [
           {
            "colorbar": {
             "outlinewidth": 0,
             "ticks": ""
            },
            "type": "choropleth"
           }
          ],
          "contour": [
           {
            "colorbar": {
             "outlinewidth": 0,
             "ticks": ""
            },
            "colorscale": [
             [
              0,
              "#0d0887"
             ],
             [
              0.1111111111111111,
              "#46039f"
             ],
             [
              0.2222222222222222,
              "#7201a8"
             ],
             [
              0.3333333333333333,
              "#9c179e"
             ],
             [
              0.4444444444444444,
              "#bd3786"
             ],
             [
              0.5555555555555556,
              "#d8576b"
             ],
             [
              0.6666666666666666,
              "#ed7953"
             ],
             [
              0.7777777777777778,
              "#fb9f3a"
             ],
             [
              0.8888888888888888,
              "#fdca26"
             ],
             [
              1,
              "#f0f921"
             ]
            ],
            "type": "contour"
           }
          ],
          "contourcarpet": [
           {
            "colorbar": {
             "outlinewidth": 0,
             "ticks": ""
            },
            "type": "contourcarpet"
           }
          ],
          "heatmap": [
           {
            "colorbar": {
             "outlinewidth": 0,
             "ticks": ""
            },
            "colorscale": [
             [
              0,
              "#0d0887"
             ],
             [
              0.1111111111111111,
              "#46039f"
             ],
             [
              0.2222222222222222,
              "#7201a8"
             ],
             [
              0.3333333333333333,
              "#9c179e"
             ],
             [
              0.4444444444444444,
              "#bd3786"
             ],
             [
              0.5555555555555556,
              "#d8576b"
             ],
             [
              0.6666666666666666,
              "#ed7953"
             ],
             [
              0.7777777777777778,
              "#fb9f3a"
             ],
             [
              0.8888888888888888,
              "#fdca26"
             ],
             [
              1,
              "#f0f921"
             ]
            ],
            "type": "heatmap"
           }
          ],
          "heatmapgl": [
           {
            "colorbar": {
             "outlinewidth": 0,
             "ticks": ""
            },
            "colorscale": [
             [
              0,
              "#0d0887"
             ],
             [
              0.1111111111111111,
              "#46039f"
             ],
             [
              0.2222222222222222,
              "#7201a8"
             ],
             [
              0.3333333333333333,
              "#9c179e"
             ],
             [
              0.4444444444444444,
              "#bd3786"
             ],
             [
              0.5555555555555556,
              "#d8576b"
             ],
             [
              0.6666666666666666,
              "#ed7953"
             ],
             [
              0.7777777777777778,
              "#fb9f3a"
             ],
             [
              0.8888888888888888,
              "#fdca26"
             ],
             [
              1,
              "#f0f921"
             ]
            ],
            "type": "heatmapgl"
           }
          ],
          "histogram": [
           {
            "marker": {
             "pattern": {
              "fillmode": "overlay",
              "size": 10,
              "solidity": 0.2
             }
            },
            "type": "histogram"
           }
          ],
          "histogram2d": [
           {
            "colorbar": {
             "outlinewidth": 0,
             "ticks": ""
            },
            "colorscale": [
             [
              0,
              "#0d0887"
             ],
             [
              0.1111111111111111,
              "#46039f"
             ],
             [
              0.2222222222222222,
              "#7201a8"
             ],
             [
              0.3333333333333333,
              "#9c179e"
             ],
             [
              0.4444444444444444,
              "#bd3786"
             ],
             [
              0.5555555555555556,
              "#d8576b"
             ],
             [
              0.6666666666666666,
              "#ed7953"
             ],
             [
              0.7777777777777778,
              "#fb9f3a"
             ],
             [
              0.8888888888888888,
              "#fdca26"
             ],
             [
              1,
              "#f0f921"
             ]
            ],
            "type": "histogram2d"
           }
          ],
          "histogram2dcontour": [
           {
            "colorbar": {
             "outlinewidth": 0,
             "ticks": ""
            },
            "colorscale": [
             [
              0,
              "#0d0887"
             ],
             [
              0.1111111111111111,
              "#46039f"
             ],
             [
              0.2222222222222222,
              "#7201a8"
             ],
             [
              0.3333333333333333,
              "#9c179e"
             ],
             [
              0.4444444444444444,
              "#bd3786"
             ],
             [
              0.5555555555555556,
              "#d8576b"
             ],
             [
              0.6666666666666666,
              "#ed7953"
             ],
             [
              0.7777777777777778,
              "#fb9f3a"
             ],
             [
              0.8888888888888888,
              "#fdca26"
             ],
             [
              1,
              "#f0f921"
             ]
            ],
            "type": "histogram2dcontour"
           }
          ],
          "mesh3d": [
           {
            "colorbar": {
             "outlinewidth": 0,
             "ticks": ""
            },
            "type": "mesh3d"
           }
          ],
          "parcoords": [
           {
            "line": {
             "colorbar": {
              "outlinewidth": 0,
              "ticks": ""
             }
            },
            "type": "parcoords"
           }
          ],
          "pie": [
           {
            "automargin": true,
            "type": "pie"
           }
          ],
          "scatter": [
           {
            "marker": {
             "colorbar": {
              "outlinewidth": 0,
              "ticks": ""
             }
            },
            "type": "scatter"
           }
          ],
          "scatter3d": [
           {
            "line": {
             "colorbar": {
              "outlinewidth": 0,
              "ticks": ""
             }
            },
            "marker": {
             "colorbar": {
              "outlinewidth": 0,
              "ticks": ""
             }
            },
            "type": "scatter3d"
           }
          ],
          "scattercarpet": [
           {
            "marker": {
             "colorbar": {
              "outlinewidth": 0,
              "ticks": ""
             }
            },
            "type": "scattercarpet"
           }
          ],
          "scattergeo": [
           {
            "marker": {
             "colorbar": {
              "outlinewidth": 0,
              "ticks": ""
             }
            },
            "type": "scattergeo"
           }
          ],
          "scattergl": [
           {
            "marker": {
             "colorbar": {
              "outlinewidth": 0,
              "ticks": ""
             }
            },
            "type": "scattergl"
           }
          ],
          "scattermapbox": [
           {
            "marker": {
             "colorbar": {
              "outlinewidth": 0,
              "ticks": ""
             }
            },
            "type": "scattermapbox"
           }
          ],
          "scatterpolar": [
           {
            "marker": {
             "colorbar": {
              "outlinewidth": 0,
              "ticks": ""
             }
            },
            "type": "scatterpolar"
           }
          ],
          "scatterpolargl": [
           {
            "marker": {
             "colorbar": {
              "outlinewidth": 0,
              "ticks": ""
             }
            },
            "type": "scatterpolargl"
           }
          ],
          "scatterternary": [
           {
            "marker": {
             "colorbar": {
              "outlinewidth": 0,
              "ticks": ""
             }
            },
            "type": "scatterternary"
           }
          ],
          "surface": [
           {
            "colorbar": {
             "outlinewidth": 0,
             "ticks": ""
            },
            "colorscale": [
             [
              0,
              "#0d0887"
             ],
             [
              0.1111111111111111,
              "#46039f"
             ],
             [
              0.2222222222222222,
              "#7201a8"
             ],
             [
              0.3333333333333333,
              "#9c179e"
             ],
             [
              0.4444444444444444,
              "#bd3786"
             ],
             [
              0.5555555555555556,
              "#d8576b"
             ],
             [
              0.6666666666666666,
              "#ed7953"
             ],
             [
              0.7777777777777778,
              "#fb9f3a"
             ],
             [
              0.8888888888888888,
              "#fdca26"
             ],
             [
              1,
              "#f0f921"
             ]
            ],
            "type": "surface"
           }
          ],
          "table": [
           {
            "cells": {
             "fill": {
              "color": "#EBF0F8"
             },
             "line": {
              "color": "white"
             }
            },
            "header": {
             "fill": {
              "color": "#C8D4E3"
             },
             "line": {
              "color": "white"
             }
            },
            "type": "table"
           }
          ]
         },
         "layout": {
          "annotationdefaults": {
           "arrowcolor": "#2a3f5f",
           "arrowhead": 0,
           "arrowwidth": 1
          },
          "autotypenumbers": "strict",
          "coloraxis": {
           "colorbar": {
            "outlinewidth": 0,
            "ticks": ""
           }
          },
          "colorscale": {
           "diverging": [
            [
             0,
             "#8e0152"
            ],
            [
             0.1,
             "#c51b7d"
            ],
            [
             0.2,
             "#de77ae"
            ],
            [
             0.3,
             "#f1b6da"
            ],
            [
             0.4,
             "#fde0ef"
            ],
            [
             0.5,
             "#f7f7f7"
            ],
            [
             0.6,
             "#e6f5d0"
            ],
            [
             0.7,
             "#b8e186"
            ],
            [
             0.8,
             "#7fbc41"
            ],
            [
             0.9,
             "#4d9221"
            ],
            [
             1,
             "#276419"
            ]
           ],
           "sequential": [
            [
             0,
             "#0d0887"
            ],
            [
             0.1111111111111111,
             "#46039f"
            ],
            [
             0.2222222222222222,
             "#7201a8"
            ],
            [
             0.3333333333333333,
             "#9c179e"
            ],
            [
             0.4444444444444444,
             "#bd3786"
            ],
            [
             0.5555555555555556,
             "#d8576b"
            ],
            [
             0.6666666666666666,
             "#ed7953"
            ],
            [
             0.7777777777777778,
             "#fb9f3a"
            ],
            [
             0.8888888888888888,
             "#fdca26"
            ],
            [
             1,
             "#f0f921"
            ]
           ],
           "sequentialminus": [
            [
             0,
             "#0d0887"
            ],
            [
             0.1111111111111111,
             "#46039f"
            ],
            [
             0.2222222222222222,
             "#7201a8"
            ],
            [
             0.3333333333333333,
             "#9c179e"
            ],
            [
             0.4444444444444444,
             "#bd3786"
            ],
            [
             0.5555555555555556,
             "#d8576b"
            ],
            [
             0.6666666666666666,
             "#ed7953"
            ],
            [
             0.7777777777777778,
             "#fb9f3a"
            ],
            [
             0.8888888888888888,
             "#fdca26"
            ],
            [
             1,
             "#f0f921"
            ]
           ]
          },
          "colorway": [
           "#636efa",
           "#EF553B",
           "#00cc96",
           "#ab63fa",
           "#FFA15A",
           "#19d3f3",
           "#FF6692",
           "#B6E880",
           "#FF97FF",
           "#FECB52"
          ],
          "font": {
           "color": "#2a3f5f"
          },
          "geo": {
           "bgcolor": "white",
           "lakecolor": "white",
           "landcolor": "#E5ECF6",
           "showlakes": true,
           "showland": true,
           "subunitcolor": "white"
          },
          "hoverlabel": {
           "align": "left"
          },
          "hovermode": "closest",
          "mapbox": {
           "style": "light"
          },
          "paper_bgcolor": "white",
          "plot_bgcolor": "#E5ECF6",
          "polar": {
           "angularaxis": {
            "gridcolor": "white",
            "linecolor": "white",
            "ticks": ""
           },
           "bgcolor": "#E5ECF6",
           "radialaxis": {
            "gridcolor": "white",
            "linecolor": "white",
            "ticks": ""
           }
          },
          "scene": {
           "xaxis": {
            "backgroundcolor": "#E5ECF6",
            "gridcolor": "white",
            "gridwidth": 2,
            "linecolor": "white",
            "showbackground": true,
            "ticks": "",
            "zerolinecolor": "white"
           },
           "yaxis": {
            "backgroundcolor": "#E5ECF6",
            "gridcolor": "white",
            "gridwidth": 2,
            "linecolor": "white",
            "showbackground": true,
            "ticks": "",
            "zerolinecolor": "white"
           },
           "zaxis": {
            "backgroundcolor": "#E5ECF6",
            "gridcolor": "white",
            "gridwidth": 2,
            "linecolor": "white",
            "showbackground": true,
            "ticks": "",
            "zerolinecolor": "white"
           }
          },
          "shapedefaults": {
           "line": {
            "color": "#2a3f5f"
           }
          },
          "ternary": {
           "aaxis": {
            "gridcolor": "white",
            "linecolor": "white",
            "ticks": ""
           },
           "baxis": {
            "gridcolor": "white",
            "linecolor": "white",
            "ticks": ""
           },
           "bgcolor": "#E5ECF6",
           "caxis": {
            "gridcolor": "white",
            "linecolor": "white",
            "ticks": ""
           }
          },
          "title": {
           "x": 0.05
          },
          "xaxis": {
           "automargin": true,
           "gridcolor": "white",
           "linecolor": "white",
           "ticks": "",
           "title": {
            "standoff": 15
           },
           "zerolinecolor": "white",
           "zerolinewidth": 2
          },
          "yaxis": {
           "automargin": true,
           "gridcolor": "white",
           "linecolor": "white",
           "ticks": "",
           "title": {
            "standoff": 15
           },
           "zerolinecolor": "white",
           "zerolinewidth": 2
          }
         }
        },
        "xaxis": {
         "anchor": "y",
         "domain": [
          0,
          1
         ],
         "title": {
          "text": "Percentage of total inputs"
         }
        },
        "yaxis": {
         "anchor": "x",
         "categoryarray": [
          "Other chemical produ...",
          "Coke and refined pet...",
          "Coal and lignite...",
          "Rail transport servi...",
          "Land transport servi...",
          "Wholesale trade serv...",
          "Rest of repair; Inst...",
          "Rental and leasing s...",
          "Financial services, ...",
          "Machinery and equipm..."
         ],
         "categoryorder": "array",
         "domain": [
          0,
          1
         ],
         "title": {
          "text": "Product"
         }
        }
       }
      }
     },
     "metadata": {},
     "output_type": "display_data"
    }
   ],
   "source": [
    "fig = px.histogram(combined_subset, \n",
    "                    color='component',\n",
    "                    y='input_product_trun', \n",
    "                    x='value',\n",
    "                    barnorm='percent',\n",
    "                        labels={\n",
    "                            'component':'Category',\n",
    "                            'input_product_trun':'Product',\n",
    "                            'sum of value (normalised as percent)': 'percentage of total inputs'\n",
    "                        },\n",
    "        height=600,\n",
    "        hover_name='input product',\n",
    "        hover_data={\n",
    "                    'component':False,\n",
    "                    'input_product_trun':False\n",
    "                    })\n",
    "\n",
    "fig.update_layout(xaxis_title='Percentage of total inputs')\n",
    "\n",
    "fig.update_yaxes(categoryorder='array', categoryarray=yarray[::-1])\n",
    "\n",
    "config = {'displayModeBar': True}\n",
    "\n",
    "fig"
   ]
  }
 ],
 "metadata": {
  "kernelspec": {
   "display_name": "Python 3.9.12 ('base')",
   "language": "python",
   "name": "python3"
  },
  "language_info": {
   "codemirror_mode": {
    "name": "ipython",
    "version": 3
   },
   "file_extension": ".py",
   "mimetype": "text/x-python",
   "name": "python",
   "nbconvert_exporter": "python",
   "pygments_lexer": "ipython3",
   "version": "3.9.12"
  },
  "orig_nbformat": 4,
  "vscode": {
   "interpreter": {
    "hash": "e64d64c086741ef4a01b1973e253f24b05e5f8201e043641bb65f7528e84d7ba"
   }
  }
 },
 "nbformat": 4,
 "nbformat_minor": 2
}
